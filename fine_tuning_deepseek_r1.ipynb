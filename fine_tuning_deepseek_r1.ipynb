{
  "cells": [
    {
      "cell_type": "markdown",
      "id": "c64ae1b1",
      "metadata": {
        "papermill": {
          "duration": 0.005662,
          "end_time": "2025-03-24T18:04:33.798642",
          "exception": false,
          "start_time": "2025-03-24T18:04:33.792980",
          "status": "completed"
        },
        "tags": [],
        "id": "c64ae1b1"
      },
      "source": [
        "# ***Install Relevant Packages***"
      ]
    },
    {
      "cell_type": "code",
      "execution_count": 2,
      "id": "e45b7745",
      "metadata": {
        "_cell_guid": "b1076dfc-b9ad-4769-8c92-a6c4dae69d19",
        "_uuid": "8f2839f25d086af736a60e9eeb907d3b93b6e0e5",
        "execution": {
          "iopub.execute_input": "2025-03-24T18:04:33.809561Z",
          "iopub.status.busy": "2025-03-24T18:04:33.809275Z",
          "iopub.status.idle": "2025-03-24T18:07:51.859509Z",
          "shell.execute_reply": "2025-03-24T18:07:51.858591Z"
        },
        "papermill": {
          "duration": 198.057603,
          "end_time": "2025-03-24T18:07:51.861373",
          "exception": false,
          "start_time": "2025-03-24T18:04:33.803770",
          "status": "completed"
        },
        "tags": [],
        "colab": {
          "base_uri": "https://localhost:8080/",
          "height": 1000
        },
        "id": "e45b7745",
        "outputId": "9c7432c1-e3a3-4884-ee78-4f2f208db08a"
      },
      "outputs": [
        {
          "output_type": "stream",
          "name": "stdout",
          "text": [
            "Collecting unsloth\n",
            "  Downloading unsloth-2025.5.7-py3-none-any.whl.metadata (47 kB)\n",
            "\u001b[?25l     \u001b[90m━━━━━━━━━━━━━━━━━━━━━━━━━━━━━━━━━━━━━━━━\u001b[0m \u001b[32m0.0/47.1 kB\u001b[0m \u001b[31m?\u001b[0m eta \u001b[36m-:--:--\u001b[0m\r\u001b[2K     \u001b[90m━━━━━━━━━━━━━━━━━━━━━━━━━━━━━━━━━━━━━━━━\u001b[0m \u001b[32m47.1/47.1 kB\u001b[0m \u001b[31m1.8 MB/s\u001b[0m eta \u001b[36m0:00:00\u001b[0m\n",
            "\u001b[?25hCollecting unsloth_zoo>=2025.5.8 (from unsloth)\n",
            "  Downloading unsloth_zoo-2025.5.8-py3-none-any.whl.metadata (8.0 kB)\n",
            "Requirement already satisfied: torch>=2.4.0 in /usr/local/lib/python3.11/dist-packages (from unsloth) (2.6.0+cu124)\n",
            "Collecting xformers>=0.0.27.post2 (from unsloth)\n",
            "  Downloading xformers-0.0.30-cp311-cp311-manylinux_2_28_x86_64.whl.metadata (1.0 kB)\n",
            "Collecting bitsandbytes (from unsloth)\n",
            "  Downloading bitsandbytes-0.45.5-py3-none-manylinux_2_24_x86_64.whl.metadata (5.0 kB)\n",
            "Requirement already satisfied: triton>=3.0.0 in /usr/local/lib/python3.11/dist-packages (from unsloth) (3.2.0)\n",
            "Requirement already satisfied: packaging in /usr/local/lib/python3.11/dist-packages (from unsloth) (24.2)\n",
            "Collecting tyro (from unsloth)\n",
            "  Downloading tyro-0.9.22-py3-none-any.whl.metadata (10 kB)\n",
            "Requirement already satisfied: transformers!=4.47.0,==4.51.3 in /usr/local/lib/python3.11/dist-packages (from unsloth) (4.51.3)\n",
            "Collecting datasets>=3.4.1 (from unsloth)\n",
            "  Downloading datasets-3.6.0-py3-none-any.whl.metadata (19 kB)\n",
            "Requirement already satisfied: sentencepiece>=0.2.0 in /usr/local/lib/python3.11/dist-packages (from unsloth) (0.2.0)\n",
            "Requirement already satisfied: tqdm in /usr/local/lib/python3.11/dist-packages (from unsloth) (4.67.1)\n",
            "Requirement already satisfied: psutil in /usr/local/lib/python3.11/dist-packages (from unsloth) (5.9.5)\n",
            "Requirement already satisfied: wheel>=0.42.0 in /usr/local/lib/python3.11/dist-packages (from unsloth) (0.45.1)\n",
            "Requirement already satisfied: numpy in /usr/local/lib/python3.11/dist-packages (from unsloth) (2.0.2)\n",
            "Requirement already satisfied: accelerate>=0.34.1 in /usr/local/lib/python3.11/dist-packages (from unsloth) (1.6.0)\n",
            "Collecting trl!=0.15.0,!=0.9.0,!=0.9.1,!=0.9.2,!=0.9.3,<=0.15.2,>=0.7.9 (from unsloth)\n",
            "  Downloading trl-0.15.2-py3-none-any.whl.metadata (11 kB)\n",
            "Requirement already satisfied: peft!=0.11.0,>=0.7.1 in /usr/local/lib/python3.11/dist-packages (from unsloth) (0.15.2)\n",
            "Collecting protobuf<4.0.0 (from unsloth)\n",
            "  Downloading protobuf-3.20.3-py2.py3-none-any.whl.metadata (720 bytes)\n",
            "Requirement already satisfied: huggingface_hub in /usr/local/lib/python3.11/dist-packages (from unsloth) (0.31.2)\n",
            "Requirement already satisfied: hf_transfer in /usr/local/lib/python3.11/dist-packages (from unsloth) (0.1.9)\n",
            "Requirement already satisfied: diffusers in /usr/local/lib/python3.11/dist-packages (from unsloth) (0.33.1)\n",
            "Requirement already satisfied: torchvision in /usr/local/lib/python3.11/dist-packages (from unsloth) (0.21.0+cu124)\n",
            "Requirement already satisfied: filelock in /usr/local/lib/python3.11/dist-packages (from transformers!=4.47.0,==4.51.3->unsloth) (3.18.0)\n",
            "Requirement already satisfied: pyyaml>=5.1 in /usr/local/lib/python3.11/dist-packages (from transformers!=4.47.0,==4.51.3->unsloth) (6.0.2)\n",
            "Requirement already satisfied: regex!=2019.12.17 in /usr/local/lib/python3.11/dist-packages (from transformers!=4.47.0,==4.51.3->unsloth) (2024.11.6)\n",
            "Requirement already satisfied: requests in /usr/local/lib/python3.11/dist-packages (from transformers!=4.47.0,==4.51.3->unsloth) (2.32.3)\n",
            "Requirement already satisfied: tokenizers<0.22,>=0.21 in /usr/local/lib/python3.11/dist-packages (from transformers!=4.47.0,==4.51.3->unsloth) (0.21.1)\n",
            "Requirement already satisfied: safetensors>=0.4.3 in /usr/local/lib/python3.11/dist-packages (from transformers!=4.47.0,==4.51.3->unsloth) (0.5.3)\n",
            "Requirement already satisfied: pyarrow>=15.0.0 in /usr/local/lib/python3.11/dist-packages (from datasets>=3.4.1->unsloth) (18.1.0)\n",
            "Requirement already satisfied: dill<0.3.9,>=0.3.0 in /usr/local/lib/python3.11/dist-packages (from datasets>=3.4.1->unsloth) (0.3.7)\n",
            "Requirement already satisfied: pandas in /usr/local/lib/python3.11/dist-packages (from datasets>=3.4.1->unsloth) (2.2.2)\n",
            "Requirement already satisfied: xxhash in /usr/local/lib/python3.11/dist-packages (from datasets>=3.4.1->unsloth) (3.5.0)\n",
            "Requirement already satisfied: multiprocess<0.70.17 in /usr/local/lib/python3.11/dist-packages (from datasets>=3.4.1->unsloth) (0.70.15)\n",
            "Collecting fsspec<=2025.3.0,>=2023.1.0 (from fsspec[http]<=2025.3.0,>=2023.1.0->datasets>=3.4.1->unsloth)\n",
            "  Downloading fsspec-2025.3.0-py3-none-any.whl.metadata (11 kB)\n",
            "Requirement already satisfied: typing-extensions>=3.7.4.3 in /usr/local/lib/python3.11/dist-packages (from huggingface_hub->unsloth) (4.13.2)\n",
            "Requirement already satisfied: networkx in /usr/local/lib/python3.11/dist-packages (from torch>=2.4.0->unsloth) (3.4.2)\n",
            "Requirement already satisfied: jinja2 in /usr/local/lib/python3.11/dist-packages (from torch>=2.4.0->unsloth) (3.1.6)\n",
            "Collecting nvidia-cuda-nvrtc-cu12==12.4.127 (from torch>=2.4.0->unsloth)\n",
            "  Downloading nvidia_cuda_nvrtc_cu12-12.4.127-py3-none-manylinux2014_x86_64.whl.metadata (1.5 kB)\n",
            "Collecting nvidia-cuda-runtime-cu12==12.4.127 (from torch>=2.4.0->unsloth)\n",
            "  Downloading nvidia_cuda_runtime_cu12-12.4.127-py3-none-manylinux2014_x86_64.whl.metadata (1.5 kB)\n",
            "Collecting nvidia-cuda-cupti-cu12==12.4.127 (from torch>=2.4.0->unsloth)\n",
            "  Downloading nvidia_cuda_cupti_cu12-12.4.127-py3-none-manylinux2014_x86_64.whl.metadata (1.6 kB)\n",
            "Collecting nvidia-cudnn-cu12==9.1.0.70 (from torch>=2.4.0->unsloth)\n",
            "  Downloading nvidia_cudnn_cu12-9.1.0.70-py3-none-manylinux2014_x86_64.whl.metadata (1.6 kB)\n",
            "Collecting nvidia-cublas-cu12==12.4.5.8 (from torch>=2.4.0->unsloth)\n",
            "  Downloading nvidia_cublas_cu12-12.4.5.8-py3-none-manylinux2014_x86_64.whl.metadata (1.5 kB)\n",
            "Collecting nvidia-cufft-cu12==11.2.1.3 (from torch>=2.4.0->unsloth)\n",
            "  Downloading nvidia_cufft_cu12-11.2.1.3-py3-none-manylinux2014_x86_64.whl.metadata (1.5 kB)\n",
            "Collecting nvidia-curand-cu12==10.3.5.147 (from torch>=2.4.0->unsloth)\n",
            "  Downloading nvidia_curand_cu12-10.3.5.147-py3-none-manylinux2014_x86_64.whl.metadata (1.5 kB)\n",
            "Collecting nvidia-cusolver-cu12==11.6.1.9 (from torch>=2.4.0->unsloth)\n",
            "  Downloading nvidia_cusolver_cu12-11.6.1.9-py3-none-manylinux2014_x86_64.whl.metadata (1.6 kB)\n",
            "Collecting nvidia-cusparse-cu12==12.3.1.170 (from torch>=2.4.0->unsloth)\n",
            "  Downloading nvidia_cusparse_cu12-12.3.1.170-py3-none-manylinux2014_x86_64.whl.metadata (1.6 kB)\n",
            "Requirement already satisfied: nvidia-cusparselt-cu12==0.6.2 in /usr/local/lib/python3.11/dist-packages (from torch>=2.4.0->unsloth) (0.6.2)\n",
            "Requirement already satisfied: nvidia-nccl-cu12==2.21.5 in /usr/local/lib/python3.11/dist-packages (from torch>=2.4.0->unsloth) (2.21.5)\n",
            "Requirement already satisfied: nvidia-nvtx-cu12==12.4.127 in /usr/local/lib/python3.11/dist-packages (from torch>=2.4.0->unsloth) (12.4.127)\n",
            "Collecting nvidia-nvjitlink-cu12==12.4.127 (from torch>=2.4.0->unsloth)\n",
            "  Downloading nvidia_nvjitlink_cu12-12.4.127-py3-none-manylinux2014_x86_64.whl.metadata (1.5 kB)\n",
            "Requirement already satisfied: sympy==1.13.1 in /usr/local/lib/python3.11/dist-packages (from torch>=2.4.0->unsloth) (1.13.1)\n",
            "Requirement already satisfied: mpmath<1.4,>=1.1.0 in /usr/local/lib/python3.11/dist-packages (from sympy==1.13.1->torch>=2.4.0->unsloth) (1.3.0)\n",
            "Requirement already satisfied: rich in /usr/local/lib/python3.11/dist-packages (from trl!=0.15.0,!=0.9.0,!=0.9.1,!=0.9.2,!=0.9.3,<=0.15.2,>=0.7.9->unsloth) (13.9.4)\n",
            "Collecting cut_cross_entropy (from unsloth_zoo>=2025.5.8->unsloth)\n",
            "  Downloading cut_cross_entropy-25.1.1-py3-none-any.whl.metadata (9.3 kB)\n",
            "Requirement already satisfied: pillow in /usr/local/lib/python3.11/dist-packages (from unsloth_zoo>=2025.5.8->unsloth) (11.2.1)\n",
            "Collecting msgspec (from unsloth_zoo>=2025.5.8->unsloth)\n",
            "  Downloading msgspec-0.19.0-cp311-cp311-manylinux_2_17_x86_64.manylinux2014_x86_64.whl.metadata (6.9 kB)\n",
            "Collecting torch>=2.4.0 (from unsloth)\n",
            "  Downloading torch-2.7.0-cp311-cp311-manylinux_2_28_x86_64.whl.metadata (29 kB)\n",
            "Collecting sympy>=1.13.3 (from torch>=2.4.0->unsloth)\n",
            "  Downloading sympy-1.14.0-py3-none-any.whl.metadata (12 kB)\n",
            "Collecting nvidia-cuda-nvrtc-cu12==12.6.77 (from torch>=2.4.0->unsloth)\n",
            "  Downloading nvidia_cuda_nvrtc_cu12-12.6.77-py3-none-manylinux2014_x86_64.whl.metadata (1.5 kB)\n",
            "Collecting nvidia-cuda-runtime-cu12==12.6.77 (from torch>=2.4.0->unsloth)\n",
            "  Downloading nvidia_cuda_runtime_cu12-12.6.77-py3-none-manylinux2014_x86_64.manylinux_2_17_x86_64.whl.metadata (1.5 kB)\n",
            "Collecting nvidia-cuda-cupti-cu12==12.6.80 (from torch>=2.4.0->unsloth)\n",
            "  Downloading nvidia_cuda_cupti_cu12-12.6.80-py3-none-manylinux2014_x86_64.manylinux_2_17_x86_64.whl.metadata (1.6 kB)\n",
            "Collecting nvidia-cudnn-cu12==9.5.1.17 (from torch>=2.4.0->unsloth)\n",
            "  Downloading nvidia_cudnn_cu12-9.5.1.17-py3-none-manylinux_2_28_x86_64.whl.metadata (1.6 kB)\n",
            "Collecting nvidia-cublas-cu12 (from nvidia-cudnn-cu12==9.1.0.70->torch>=2.4.0->unsloth)\n",
            "  Downloading nvidia_cublas_cu12-12.6.4.1-py3-none-manylinux2014_x86_64.manylinux_2_17_x86_64.whl.metadata (1.5 kB)\n",
            "Collecting nvidia-cufft-cu12==11.3.0.4 (from torch>=2.4.0->unsloth)\n",
            "  Downloading nvidia_cufft_cu12-11.3.0.4-py3-none-manylinux2014_x86_64.manylinux_2_17_x86_64.whl.metadata (1.5 kB)\n",
            "Collecting nvidia-curand-cu12==10.3.7.77 (from torch>=2.4.0->unsloth)\n",
            "  Downloading nvidia_curand_cu12-10.3.7.77-py3-none-manylinux2014_x86_64.manylinux_2_17_x86_64.whl.metadata (1.5 kB)\n",
            "Collecting nvidia-cusolver-cu12==11.7.1.2 (from torch>=2.4.0->unsloth)\n",
            "  Downloading nvidia_cusolver_cu12-11.7.1.2-py3-none-manylinux2014_x86_64.manylinux_2_17_x86_64.whl.metadata (1.6 kB)\n",
            "Collecting nvidia-cusparse-cu12 (from nvidia-cusolver-cu12==11.6.1.9->torch>=2.4.0->unsloth)\n",
            "  Downloading nvidia_cusparse_cu12-12.5.4.2-py3-none-manylinux2014_x86_64.manylinux_2_17_x86_64.whl.metadata (1.6 kB)\n",
            "Collecting nvidia-cusparselt-cu12==0.6.3 (from torch>=2.4.0->unsloth)\n",
            "  Downloading nvidia_cusparselt_cu12-0.6.3-py3-none-manylinux2014_x86_64.whl.metadata (6.8 kB)\n",
            "Collecting nvidia-nccl-cu12==2.26.2 (from torch>=2.4.0->unsloth)\n",
            "  Downloading nvidia_nccl_cu12-2.26.2-py3-none-manylinux2014_x86_64.manylinux_2_17_x86_64.whl.metadata (2.0 kB)\n",
            "Collecting nvidia-nvtx-cu12==12.6.77 (from torch>=2.4.0->unsloth)\n",
            "  Downloading nvidia_nvtx_cu12-12.6.77-py3-none-manylinux2014_x86_64.manylinux_2_17_x86_64.whl.metadata (1.6 kB)\n",
            "Collecting nvidia-nvjitlink-cu12 (from nvidia-cusolver-cu12==11.6.1.9->torch>=2.4.0->unsloth)\n",
            "  Downloading nvidia_nvjitlink_cu12-12.6.85-py3-none-manylinux2010_x86_64.manylinux_2_12_x86_64.whl.metadata (1.5 kB)\n",
            "Collecting nvidia-cufile-cu12==1.11.1.6 (from torch>=2.4.0->unsloth)\n",
            "  Downloading nvidia_cufile_cu12-1.11.1.6-py3-none-manylinux2014_x86_64.manylinux_2_17_x86_64.whl.metadata (1.5 kB)\n",
            "Collecting triton>=3.0.0 (from unsloth)\n",
            "  Downloading triton-3.3.0-cp311-cp311-manylinux_2_27_x86_64.manylinux_2_28_x86_64.whl.metadata (1.5 kB)\n",
            "Requirement already satisfied: setuptools>=40.8.0 in /usr/local/lib/python3.11/dist-packages (from triton>=3.0.0->unsloth) (75.2.0)\n",
            "Requirement already satisfied: importlib-metadata in /usr/local/lib/python3.11/dist-packages (from diffusers->unsloth) (8.7.0)\n",
            "INFO: pip is looking at multiple versions of torchvision to determine which version is compatible with other requirements. This could take a while.\n",
            "Collecting torchvision (from unsloth)\n",
            "  Downloading torchvision-0.22.0-cp311-cp311-manylinux_2_28_x86_64.whl.metadata (6.1 kB)\n",
            "Requirement already satisfied: docstring-parser>=0.15 in /usr/local/lib/python3.11/dist-packages (from tyro->unsloth) (0.16)\n",
            "Collecting shtab>=1.5.6 (from tyro->unsloth)\n",
            "  Downloading shtab-1.7.2-py3-none-any.whl.metadata (7.4 kB)\n",
            "Requirement already satisfied: typeguard>=4.0.0 in /usr/local/lib/python3.11/dist-packages (from tyro->unsloth) (4.4.2)\n",
            "Requirement already satisfied: aiohttp!=4.0.0a0,!=4.0.0a1 in /usr/local/lib/python3.11/dist-packages (from fsspec[http]<=2025.3.0,>=2023.1.0->datasets>=3.4.1->unsloth) (3.11.15)\n",
            "Requirement already satisfied: charset-normalizer<4,>=2 in /usr/local/lib/python3.11/dist-packages (from requests->transformers!=4.47.0,==4.51.3->unsloth) (3.4.2)\n",
            "Requirement already satisfied: idna<4,>=2.5 in /usr/local/lib/python3.11/dist-packages (from requests->transformers!=4.47.0,==4.51.3->unsloth) (3.10)\n",
            "Requirement already satisfied: urllib3<3,>=1.21.1 in /usr/local/lib/python3.11/dist-packages (from requests->transformers!=4.47.0,==4.51.3->unsloth) (2.4.0)\n",
            "Requirement already satisfied: certifi>=2017.4.17 in /usr/local/lib/python3.11/dist-packages (from requests->transformers!=4.47.0,==4.51.3->unsloth) (2025.4.26)\n",
            "Requirement already satisfied: markdown-it-py>=2.2.0 in /usr/local/lib/python3.11/dist-packages (from rich->trl!=0.15.0,!=0.9.0,!=0.9.1,!=0.9.2,!=0.9.3,<=0.15.2,>=0.7.9->unsloth) (3.0.0)\n",
            "Requirement already satisfied: pygments<3.0.0,>=2.13.0 in /usr/local/lib/python3.11/dist-packages (from rich->trl!=0.15.0,!=0.9.0,!=0.9.1,!=0.9.2,!=0.9.3,<=0.15.2,>=0.7.9->unsloth) (2.19.1)\n",
            "Requirement already satisfied: zipp>=3.20 in /usr/local/lib/python3.11/dist-packages (from importlib-metadata->diffusers->unsloth) (3.21.0)\n",
            "Requirement already satisfied: MarkupSafe>=2.0 in /usr/local/lib/python3.11/dist-packages (from jinja2->torch>=2.4.0->unsloth) (3.0.2)\n",
            "Requirement already satisfied: python-dateutil>=2.8.2 in /usr/local/lib/python3.11/dist-packages (from pandas->datasets>=3.4.1->unsloth) (2.9.0.post0)\n",
            "Requirement already satisfied: pytz>=2020.1 in /usr/local/lib/python3.11/dist-packages (from pandas->datasets>=3.4.1->unsloth) (2025.2)\n",
            "Requirement already satisfied: tzdata>=2022.7 in /usr/local/lib/python3.11/dist-packages (from pandas->datasets>=3.4.1->unsloth) (2025.2)\n",
            "Requirement already satisfied: aiohappyeyeballs>=2.3.0 in /usr/local/lib/python3.11/dist-packages (from aiohttp!=4.0.0a0,!=4.0.0a1->fsspec[http]<=2025.3.0,>=2023.1.0->datasets>=3.4.1->unsloth) (2.6.1)\n",
            "Requirement already satisfied: aiosignal>=1.1.2 in /usr/local/lib/python3.11/dist-packages (from aiohttp!=4.0.0a0,!=4.0.0a1->fsspec[http]<=2025.3.0,>=2023.1.0->datasets>=3.4.1->unsloth) (1.3.2)\n",
            "Requirement already satisfied: attrs>=17.3.0 in /usr/local/lib/python3.11/dist-packages (from aiohttp!=4.0.0a0,!=4.0.0a1->fsspec[http]<=2025.3.0,>=2023.1.0->datasets>=3.4.1->unsloth) (25.3.0)\n",
            "Requirement already satisfied: frozenlist>=1.1.1 in /usr/local/lib/python3.11/dist-packages (from aiohttp!=4.0.0a0,!=4.0.0a1->fsspec[http]<=2025.3.0,>=2023.1.0->datasets>=3.4.1->unsloth) (1.6.0)\n",
            "Requirement already satisfied: multidict<7.0,>=4.5 in /usr/local/lib/python3.11/dist-packages (from aiohttp!=4.0.0a0,!=4.0.0a1->fsspec[http]<=2025.3.0,>=2023.1.0->datasets>=3.4.1->unsloth) (6.4.3)\n",
            "Requirement already satisfied: propcache>=0.2.0 in /usr/local/lib/python3.11/dist-packages (from aiohttp!=4.0.0a0,!=4.0.0a1->fsspec[http]<=2025.3.0,>=2023.1.0->datasets>=3.4.1->unsloth) (0.3.1)\n",
            "Requirement already satisfied: yarl<2.0,>=1.17.0 in /usr/local/lib/python3.11/dist-packages (from aiohttp!=4.0.0a0,!=4.0.0a1->fsspec[http]<=2025.3.0,>=2023.1.0->datasets>=3.4.1->unsloth) (1.20.0)\n",
            "Requirement already satisfied: mdurl~=0.1 in /usr/local/lib/python3.11/dist-packages (from markdown-it-py>=2.2.0->rich->trl!=0.15.0,!=0.9.0,!=0.9.1,!=0.9.2,!=0.9.3,<=0.15.2,>=0.7.9->unsloth) (0.1.2)\n",
            "Requirement already satisfied: six>=1.5 in /usr/local/lib/python3.11/dist-packages (from python-dateutil>=2.8.2->pandas->datasets>=3.4.1->unsloth) (1.17.0)\n",
            "Downloading unsloth-2025.5.7-py3-none-any.whl (265 kB)\n",
            "\u001b[2K   \u001b[90m━━━━━━━━━━━━━━━━━━━━━━━━━━━━━━━━━━━━━━━━\u001b[0m \u001b[32m265.7/265.7 kB\u001b[0m \u001b[31m11.4 MB/s\u001b[0m eta \u001b[36m0:00:00\u001b[0m\n",
            "\u001b[?25hDownloading datasets-3.6.0-py3-none-any.whl (491 kB)\n",
            "\u001b[2K   \u001b[90m━━━━━━━━━━━━━━━━━━━━━━━━━━━━━━━━━━━━━━━━\u001b[0m \u001b[32m491.5/491.5 kB\u001b[0m \u001b[31m33.3 MB/s\u001b[0m eta \u001b[36m0:00:00\u001b[0m\n",
            "\u001b[?25hDownloading protobuf-3.20.3-py2.py3-none-any.whl (162 kB)\n",
            "\u001b[2K   \u001b[90m━━━━━━━━━━━━━━━━━━━━━━━━━━━━━━━━━━━━━━━━\u001b[0m \u001b[32m162.1/162.1 kB\u001b[0m \u001b[31m14.4 MB/s\u001b[0m eta \u001b[36m0:00:00\u001b[0m\n",
            "\u001b[?25hDownloading trl-0.15.2-py3-none-any.whl (318 kB)\n",
            "\u001b[2K   \u001b[90m━━━━━━━━━━━━━━━━━━━━━━━━━━━━━━━━━━━━━━━━\u001b[0m \u001b[32m318.9/318.9 kB\u001b[0m \u001b[31m30.0 MB/s\u001b[0m eta \u001b[36m0:00:00\u001b[0m\n",
            "\u001b[?25hDownloading unsloth_zoo-2025.5.8-py3-none-any.whl (146 kB)\n",
            "\u001b[2K   \u001b[90m━━━━━━━━━━━━━━━━━━━━━━━━━━━━━━━━━━━━━━━━\u001b[0m \u001b[32m146.6/146.6 kB\u001b[0m \u001b[31m15.0 MB/s\u001b[0m eta \u001b[36m0:00:00\u001b[0m\n",
            "\u001b[?25hDownloading xformers-0.0.30-cp311-cp311-manylinux_2_28_x86_64.whl (31.5 MB)\n",
            "\u001b[2K   \u001b[90m━━━━━━━━━━━━━━━━━━━━━━━━━━━━━━━━━━━━━━━━\u001b[0m \u001b[32m31.5/31.5 MB\u001b[0m \u001b[31m57.6 MB/s\u001b[0m eta \u001b[36m0:00:00\u001b[0m\n",
            "\u001b[?25hDownloading torch-2.7.0-cp311-cp311-manylinux_2_28_x86_64.whl (865.2 MB)\n",
            "\u001b[2K   \u001b[90m━━━━━━━━━━━━━━━━━━━━━━━━━━━━━━━━━━━━━━━━\u001b[0m \u001b[32m865.2/865.2 MB\u001b[0m \u001b[31m1.3 MB/s\u001b[0m eta \u001b[36m0:00:00\u001b[0m\n",
            "\u001b[?25hDownloading triton-3.3.0-cp311-cp311-manylinux_2_27_x86_64.manylinux_2_28_x86_64.whl (156.5 MB)\n",
            "\u001b[2K   \u001b[90m━━━━━━━━━━━━━━━━━━━━━━━━━━━━━━━━━━━━━━━━\u001b[0m \u001b[32m156.5/156.5 MB\u001b[0m \u001b[31m6.6 MB/s\u001b[0m eta \u001b[36m0:00:00\u001b[0m\n",
            "\u001b[?25hDownloading nvidia_cublas_cu12-12.6.4.1-py3-none-manylinux2014_x86_64.manylinux_2_17_x86_64.whl (393.1 MB)\n",
            "\u001b[2K   \u001b[90m━━━━━━━━━━━━━━━━━━━━━━━━━━━━━━━━━━━━━━━━\u001b[0m \u001b[32m393.1/393.1 MB\u001b[0m \u001b[31m4.4 MB/s\u001b[0m eta \u001b[36m0:00:00\u001b[0m\n",
            "\u001b[?25hDownloading nvidia_cuda_cupti_cu12-12.6.80-py3-none-manylinux2014_x86_64.manylinux_2_17_x86_64.whl (8.9 MB)\n",
            "\u001b[2K   \u001b[90m━━━━━━━━━━━━━━━━━━━━━━━━━━━━━━━━━━━━━━━━\u001b[0m \u001b[32m8.9/8.9 MB\u001b[0m \u001b[31m133.3 MB/s\u001b[0m eta \u001b[36m0:00:00\u001b[0m\n",
            "\u001b[?25hDownloading nvidia_cuda_nvrtc_cu12-12.6.77-py3-none-manylinux2014_x86_64.whl (23.7 MB)\n",
            "\u001b[2K   \u001b[90m━━━━━━━━━━━━━━━━━━━━━━━━━━━━━━━━━━━━━━━━\u001b[0m \u001b[32m23.7/23.7 MB\u001b[0m \u001b[31m31.2 MB/s\u001b[0m eta \u001b[36m0:00:00\u001b[0m\n",
            "\u001b[?25hDownloading nvidia_cuda_runtime_cu12-12.6.77-py3-none-manylinux2014_x86_64.manylinux_2_17_x86_64.whl (897 kB)\n",
            "\u001b[2K   \u001b[90m━━━━━━━━━━━━━━━━━━━━━━━━━━━━━━━━━━━━━━━━\u001b[0m \u001b[32m897.7/897.7 kB\u001b[0m \u001b[31m57.7 MB/s\u001b[0m eta \u001b[36m0:00:00\u001b[0m\n",
            "\u001b[?25hDownloading nvidia_cudnn_cu12-9.5.1.17-py3-none-manylinux_2_28_x86_64.whl (571.0 MB)\n",
            "\u001b[2K   \u001b[90m━━━━━━━━━━━━━━━━━━━━━━━━━━━━━━━━━━━━━━━━\u001b[0m \u001b[32m571.0/571.0 MB\u001b[0m \u001b[31m1.3 MB/s\u001b[0m eta \u001b[36m0:00:00\u001b[0m\n",
            "\u001b[?25hDownloading nvidia_cufft_cu12-11.3.0.4-py3-none-manylinux2014_x86_64.manylinux_2_17_x86_64.whl (200.2 MB)\n",
            "\u001b[2K   \u001b[90m━━━━━━━━━━━━━━━━━━━━━━━━━━━━━━━━━━━━━━━━\u001b[0m \u001b[32m200.2/200.2 MB\u001b[0m \u001b[31m5.7 MB/s\u001b[0m eta \u001b[36m0:00:00\u001b[0m\n",
            "\u001b[?25hDownloading nvidia_cufile_cu12-1.11.1.6-py3-none-manylinux2014_x86_64.manylinux_2_17_x86_64.whl (1.1 MB)\n",
            "\u001b[2K   \u001b[90m━━━━━━━━━━━━━━━━━━━━━━━━━━━━━━━━━━━━━━━━\u001b[0m \u001b[32m1.1/1.1 MB\u001b[0m \u001b[31m59.2 MB/s\u001b[0m eta \u001b[36m0:00:00\u001b[0m\n",
            "\u001b[?25hDownloading nvidia_curand_cu12-10.3.7.77-py3-none-manylinux2014_x86_64.manylinux_2_17_x86_64.whl (56.3 MB)\n",
            "\u001b[2K   \u001b[90m━━━━━━━━━━━━━━━━━━━━━━━━━━━━━━━━━━━━━━━━\u001b[0m \u001b[32m56.3/56.3 MB\u001b[0m \u001b[31m13.7 MB/s\u001b[0m eta \u001b[36m0:00:00\u001b[0m\n",
            "\u001b[?25hDownloading nvidia_cusolver_cu12-11.7.1.2-py3-none-manylinux2014_x86_64.manylinux_2_17_x86_64.whl (158.2 MB)\n",
            "\u001b[2K   \u001b[90m━━━━━━━━━━━━━━━━━━━━━━━━━━━━━━━━━━━━━━━━\u001b[0m \u001b[32m158.2/158.2 MB\u001b[0m \u001b[31m6.2 MB/s\u001b[0m eta \u001b[36m0:00:00\u001b[0m\n",
            "\u001b[?25hDownloading nvidia_cusparse_cu12-12.5.4.2-py3-none-manylinux2014_x86_64.manylinux_2_17_x86_64.whl (216.6 MB)\n",
            "\u001b[2K   \u001b[90m━━━━━━━━━━━━━━━━━━━━━━━━━━━━━━━━━━━━━━━━\u001b[0m \u001b[32m216.6/216.6 MB\u001b[0m \u001b[31m5.7 MB/s\u001b[0m eta \u001b[36m0:00:00\u001b[0m\n",
            "\u001b[?25hDownloading nvidia_cusparselt_cu12-0.6.3-py3-none-manylinux2014_x86_64.whl (156.8 MB)\n",
            "\u001b[2K   \u001b[90m━━━━━━━━━━━━━━━━━━━━━━━━━━━━━━━━━━━━━━━━\u001b[0m \u001b[32m156.8/156.8 MB\u001b[0m \u001b[31m6.5 MB/s\u001b[0m eta \u001b[36m0:00:00\u001b[0m\n",
            "\u001b[?25hDownloading nvidia_nccl_cu12-2.26.2-py3-none-manylinux2014_x86_64.manylinux_2_17_x86_64.whl (201.3 MB)\n",
            "\u001b[2K   \u001b[90m━━━━━━━━━━━━━━━━━━━━━━━━━━━━━━━━━━━━━━━━\u001b[0m \u001b[32m201.3/201.3 MB\u001b[0m \u001b[31m5.8 MB/s\u001b[0m eta \u001b[36m0:00:00\u001b[0m\n",
            "\u001b[?25hDownloading nvidia_nvjitlink_cu12-12.6.85-py3-none-manylinux2010_x86_64.manylinux_2_12_x86_64.whl (19.7 MB)\n",
            "\u001b[2K   \u001b[90m━━━━━━━━━━━━━━━━━━━━━━━━━━━━━━━━━━━━━━━━\u001b[0m \u001b[32m19.7/19.7 MB\u001b[0m \u001b[31m110.0 MB/s\u001b[0m eta \u001b[36m0:00:00\u001b[0m\n",
            "\u001b[?25hDownloading nvidia_nvtx_cu12-12.6.77-py3-none-manylinux2014_x86_64.manylinux_2_17_x86_64.whl (89 kB)\n",
            "\u001b[2K   \u001b[90m━━━━━━━━━━━━━━━━━━━━━━━━━━━━━━━━━━━━━━━━\u001b[0m \u001b[32m89.3/89.3 kB\u001b[0m \u001b[31m7.6 MB/s\u001b[0m eta \u001b[36m0:00:00\u001b[0m\n",
            "\u001b[?25hDownloading bitsandbytes-0.45.5-py3-none-manylinux_2_24_x86_64.whl (76.1 MB)\n",
            "\u001b[2K   \u001b[90m━━━━━━━━━━━━━━━━━━━━━━━━━━━━━━━━━━━━━━━━\u001b[0m \u001b[32m76.1/76.1 MB\u001b[0m \u001b[31m10.2 MB/s\u001b[0m eta \u001b[36m0:00:00\u001b[0m\n",
            "\u001b[?25hDownloading torchvision-0.22.0-cp311-cp311-manylinux_2_28_x86_64.whl (7.4 MB)\n",
            "\u001b[2K   \u001b[90m━━━━━━━━━━━━━━━━━━━━━━━━━━━━━━━━━━━━━━━━\u001b[0m \u001b[32m7.4/7.4 MB\u001b[0m \u001b[31m122.7 MB/s\u001b[0m eta \u001b[36m0:00:00\u001b[0m\n",
            "\u001b[?25hDownloading tyro-0.9.22-py3-none-any.whl (125 kB)\n",
            "\u001b[2K   \u001b[90m━━━━━━━━━━━━━━━━━━━━━━━━━━━━━━━━━━━━━━━━\u001b[0m \u001b[32m125.3/125.3 kB\u001b[0m \u001b[31m13.5 MB/s\u001b[0m eta \u001b[36m0:00:00\u001b[0m\n",
            "\u001b[?25hDownloading fsspec-2025.3.0-py3-none-any.whl (193 kB)\n",
            "\u001b[2K   \u001b[90m━━━━━━━━━━━━━━━━━━━━━━━━━━━━━━━━━━━━━━━━\u001b[0m \u001b[32m193.6/193.6 kB\u001b[0m \u001b[31m19.8 MB/s\u001b[0m eta \u001b[36m0:00:00\u001b[0m\n",
            "\u001b[?25hDownloading shtab-1.7.2-py3-none-any.whl (14 kB)\n",
            "Downloading sympy-1.14.0-py3-none-any.whl (6.3 MB)\n",
            "\u001b[2K   \u001b[90m━━━━━━━━━━━━━━━━━━━━━━━━━━━━━━━━━━━━━━━━\u001b[0m \u001b[32m6.3/6.3 MB\u001b[0m \u001b[31m117.1 MB/s\u001b[0m eta \u001b[36m0:00:00\u001b[0m\n",
            "\u001b[?25hDownloading cut_cross_entropy-25.1.1-py3-none-any.whl (22 kB)\n",
            "Downloading msgspec-0.19.0-cp311-cp311-manylinux_2_17_x86_64.manylinux2014_x86_64.whl (210 kB)\n",
            "\u001b[2K   \u001b[90m━━━━━━━━━━━━━━━━━━━━━━━━━━━━━━━━━━━━━━━━\u001b[0m \u001b[32m210.7/210.7 kB\u001b[0m \u001b[31m22.3 MB/s\u001b[0m eta \u001b[36m0:00:00\u001b[0m\n",
            "\u001b[?25hInstalling collected packages: nvidia-cusparselt-cu12, triton, sympy, shtab, protobuf, nvidia-nvtx-cu12, nvidia-nvjitlink-cu12, nvidia-nccl-cu12, nvidia-curand-cu12, nvidia-cufile-cu12, nvidia-cuda-runtime-cu12, nvidia-cuda-nvrtc-cu12, nvidia-cuda-cupti-cu12, nvidia-cublas-cu12, msgspec, fsspec, nvidia-cusparse-cu12, nvidia-cufft-cu12, nvidia-cudnn-cu12, tyro, nvidia-cusolver-cu12, torch, datasets, xformers, torchvision, cut_cross_entropy, bitsandbytes, trl, unsloth_zoo, unsloth\n",
            "  Attempting uninstall: nvidia-cusparselt-cu12\n",
            "    Found existing installation: nvidia-cusparselt-cu12 0.6.2\n",
            "    Uninstalling nvidia-cusparselt-cu12-0.6.2:\n",
            "      Successfully uninstalled nvidia-cusparselt-cu12-0.6.2\n",
            "  Attempting uninstall: triton\n",
            "    Found existing installation: triton 3.2.0\n",
            "    Uninstalling triton-3.2.0:\n",
            "      Successfully uninstalled triton-3.2.0\n",
            "  Attempting uninstall: sympy\n",
            "    Found existing installation: sympy 1.13.1\n",
            "    Uninstalling sympy-1.13.1:\n",
            "      Successfully uninstalled sympy-1.13.1\n",
            "  Attempting uninstall: protobuf\n",
            "    Found existing installation: protobuf 5.29.4\n",
            "    Uninstalling protobuf-5.29.4:\n",
            "      Successfully uninstalled protobuf-5.29.4\n",
            "  Attempting uninstall: nvidia-nvtx-cu12\n",
            "    Found existing installation: nvidia-nvtx-cu12 12.4.127\n",
            "    Uninstalling nvidia-nvtx-cu12-12.4.127:\n",
            "      Successfully uninstalled nvidia-nvtx-cu12-12.4.127\n",
            "  Attempting uninstall: nvidia-nvjitlink-cu12\n",
            "    Found existing installation: nvidia-nvjitlink-cu12 12.5.82\n",
            "    Uninstalling nvidia-nvjitlink-cu12-12.5.82:\n",
            "      Successfully uninstalled nvidia-nvjitlink-cu12-12.5.82\n",
            "  Attempting uninstall: nvidia-nccl-cu12\n",
            "    Found existing installation: nvidia-nccl-cu12 2.21.5\n",
            "    Uninstalling nvidia-nccl-cu12-2.21.5:\n",
            "      Successfully uninstalled nvidia-nccl-cu12-2.21.5\n",
            "  Attempting uninstall: nvidia-curand-cu12\n",
            "    Found existing installation: nvidia-curand-cu12 10.3.6.82\n",
            "    Uninstalling nvidia-curand-cu12-10.3.6.82:\n",
            "      Successfully uninstalled nvidia-curand-cu12-10.3.6.82\n",
            "  Attempting uninstall: nvidia-cuda-runtime-cu12\n",
            "    Found existing installation: nvidia-cuda-runtime-cu12 12.5.82\n",
            "    Uninstalling nvidia-cuda-runtime-cu12-12.5.82:\n",
            "      Successfully uninstalled nvidia-cuda-runtime-cu12-12.5.82\n",
            "  Attempting uninstall: nvidia-cuda-nvrtc-cu12\n",
            "    Found existing installation: nvidia-cuda-nvrtc-cu12 12.5.82\n",
            "    Uninstalling nvidia-cuda-nvrtc-cu12-12.5.82:\n",
            "      Successfully uninstalled nvidia-cuda-nvrtc-cu12-12.5.82\n",
            "  Attempting uninstall: nvidia-cuda-cupti-cu12\n",
            "    Found existing installation: nvidia-cuda-cupti-cu12 12.5.82\n",
            "    Uninstalling nvidia-cuda-cupti-cu12-12.5.82:\n",
            "      Successfully uninstalled nvidia-cuda-cupti-cu12-12.5.82\n",
            "  Attempting uninstall: nvidia-cublas-cu12\n",
            "    Found existing installation: nvidia-cublas-cu12 12.5.3.2\n",
            "    Uninstalling nvidia-cublas-cu12-12.5.3.2:\n",
            "      Successfully uninstalled nvidia-cublas-cu12-12.5.3.2\n",
            "  Attempting uninstall: fsspec\n",
            "    Found existing installation: fsspec 2025.3.2\n",
            "    Uninstalling fsspec-2025.3.2:\n",
            "      Successfully uninstalled fsspec-2025.3.2\n",
            "  Attempting uninstall: nvidia-cusparse-cu12\n",
            "    Found existing installation: nvidia-cusparse-cu12 12.5.1.3\n",
            "    Uninstalling nvidia-cusparse-cu12-12.5.1.3:\n",
            "      Successfully uninstalled nvidia-cusparse-cu12-12.5.1.3\n",
            "  Attempting uninstall: nvidia-cufft-cu12\n",
            "    Found existing installation: nvidia-cufft-cu12 11.2.3.61\n",
            "    Uninstalling nvidia-cufft-cu12-11.2.3.61:\n",
            "      Successfully uninstalled nvidia-cufft-cu12-11.2.3.61\n",
            "  Attempting uninstall: nvidia-cudnn-cu12\n",
            "    Found existing installation: nvidia-cudnn-cu12 9.3.0.75\n",
            "    Uninstalling nvidia-cudnn-cu12-9.3.0.75:\n",
            "      Successfully uninstalled nvidia-cudnn-cu12-9.3.0.75\n",
            "  Attempting uninstall: nvidia-cusolver-cu12\n",
            "    Found existing installation: nvidia-cusolver-cu12 11.6.3.83\n",
            "    Uninstalling nvidia-cusolver-cu12-11.6.3.83:\n",
            "      Successfully uninstalled nvidia-cusolver-cu12-11.6.3.83\n",
            "  Attempting uninstall: torch\n",
            "    Found existing installation: torch 2.6.0+cu124\n",
            "    Uninstalling torch-2.6.0+cu124:\n",
            "      Successfully uninstalled torch-2.6.0+cu124\n",
            "  Attempting uninstall: datasets\n",
            "    Found existing installation: datasets 2.14.4\n",
            "    Uninstalling datasets-2.14.4:\n",
            "      Successfully uninstalled datasets-2.14.4\n",
            "  Attempting uninstall: torchvision\n",
            "    Found existing installation: torchvision 0.21.0+cu124\n",
            "    Uninstalling torchvision-0.21.0+cu124:\n",
            "      Successfully uninstalled torchvision-0.21.0+cu124\n",
            "\u001b[31mERROR: pip's dependency resolver does not currently take into account all the packages that are installed. This behaviour is the source of the following dependency conflicts.\n",
            "tensorflow-metadata 1.17.1 requires protobuf<6.0.0,>=4.25.2; python_version >= \"3.11\", but you have protobuf 3.20.3 which is incompatible.\n",
            "fastai 2.7.19 requires torch<2.7,>=1.10, but you have torch 2.7.0 which is incompatible.\n",
            "gcsfs 2025.3.2 requires fsspec==2025.3.2, but you have fsspec 2025.3.0 which is incompatible.\n",
            "ydf 0.11.0 requires protobuf<6.0.0,>=5.29.1, but you have protobuf 3.20.3 which is incompatible.\n",
            "torchaudio 2.6.0+cu124 requires torch==2.6.0, but you have torch 2.7.0 which is incompatible.\n",
            "grpcio-status 1.71.0 requires protobuf<6.0dev,>=5.26.1, but you have protobuf 3.20.3 which is incompatible.\u001b[0m\u001b[31m\n",
            "\u001b[0mSuccessfully installed bitsandbytes-0.45.5 cut_cross_entropy-25.1.1 datasets-3.6.0 fsspec-2025.3.0 msgspec-0.19.0 nvidia-cublas-cu12-12.6.4.1 nvidia-cuda-cupti-cu12-12.6.80 nvidia-cuda-nvrtc-cu12-12.6.77 nvidia-cuda-runtime-cu12-12.6.77 nvidia-cudnn-cu12-9.5.1.17 nvidia-cufft-cu12-11.3.0.4 nvidia-cufile-cu12-1.11.1.6 nvidia-curand-cu12-10.3.7.77 nvidia-cusolver-cu12-11.7.1.2 nvidia-cusparse-cu12-12.5.4.2 nvidia-cusparselt-cu12-0.6.3 nvidia-nccl-cu12-2.26.2 nvidia-nvjitlink-cu12-12.6.85 nvidia-nvtx-cu12-12.6.77 protobuf-3.20.3 shtab-1.7.2 sympy-1.14.0 torch-2.7.0 torchvision-0.22.0 triton-3.3.0 trl-0.15.2 tyro-0.9.22 unsloth-2025.5.7 unsloth_zoo-2025.5.8 xformers-0.0.30\n"
          ]
        },
        {
          "output_type": "display_data",
          "data": {
            "application/vnd.colab-display-data+json": {
              "pip_warning": {
                "packages": [
                  "google"
                ]
              },
              "id": "2ed99db06aeb411a87c9e68be3821c7a"
            }
          },
          "metadata": {}
        },
        {
          "output_type": "stream",
          "name": "stdout",
          "text": [
            "Collecting git+https://github.com/unslothai/unsloth.git\n",
            "  Cloning https://github.com/unslothai/unsloth.git to /tmp/pip-req-build-clmg948f\n",
            "  Running command git clone --filter=blob:none --quiet https://github.com/unslothai/unsloth.git /tmp/pip-req-build-clmg948f\n",
            "  Resolved https://github.com/unslothai/unsloth.git to commit 5b10dbd497315804b6de40ca25d7541c3b460924\n",
            "  Installing build dependencies ... \u001b[?25l\u001b[?25hdone\n",
            "  Getting requirements to build wheel ... \u001b[?25l\u001b[?25hdone\n",
            "  Preparing metadata (pyproject.toml) ... \u001b[?25l\u001b[?25hdone\n",
            "Building wheels for collected packages: unsloth\n",
            "  Building wheel for unsloth (pyproject.toml) ... \u001b[?25l\u001b[?25hdone\n",
            "  Created wheel for unsloth: filename=unsloth-2025.5.7-py3-none-any.whl size=265655 sha256=9aa168a463351b3bbc420156a626059d389f529f5f6bf1993035d2055cf3011f\n",
            "  Stored in directory: /tmp/pip-ephem-wheel-cache-63onk56t/wheels/d1/17/05/850ab10c33284a4763b0595cd8ea9d01fce6e221cac24b3c01\n",
            "Successfully built unsloth\n",
            "Installing collected packages: unsloth\n",
            "  Attempting uninstall: unsloth\n",
            "    Found existing installation: unsloth 2025.5.7\n",
            "    Uninstalling unsloth-2025.5.7:\n",
            "      Successfully uninstalled unsloth-2025.5.7\n",
            "Successfully installed unsloth-2025.5.7\n"
          ]
        }
      ],
      "source": [
        "# install relevant packages\n",
        "\n",
        "# Install the Unsloth library using pip\n",
        "!pip install unsloth\n",
        "# Reinstall Unsloth from GitHub with fresh files\n",
        "!pip install --force-reinstall --no-cache-dir --no-deps git+https://github.com/unslothai/unsloth.git\n",
        "\n",
        "# Explanation of flags used in the second command:\n",
        "# --force-reinstall   → Removes the old version and installs a fresh copy.\n",
        "# --no-cache-dir      → Prevents using old cached files, ensuring a clean install.\n",
        "# --no-deps           → Skips installing extra dependencies (only installs Unsloth itself).\n",
        "# git+https://...     → Downloads and installs the latest version directly from GitHub."
      ]
    },
    {
      "cell_type": "markdown",
      "id": "013a11b6",
      "metadata": {
        "papermill": {
          "duration": 0.052321,
          "end_time": "2025-03-24T18:07:51.967737",
          "exception": false,
          "start_time": "2025-03-24T18:07:51.915416",
          "status": "completed"
        },
        "tags": [],
        "id": "013a11b6"
      },
      "source": [
        "# ***Import all relevant libraries***"
      ]
    },
    {
      "cell_type": "code",
      "execution_count": 3,
      "id": "4ec53fd2",
      "metadata": {
        "execution": {
          "iopub.execute_input": "2025-03-24T18:07:52.074434Z",
          "iopub.status.busy": "2025-03-24T18:07:52.074106Z",
          "iopub.status.idle": "2025-03-24T18:08:25.252323Z",
          "shell.execute_reply": "2025-03-24T18:08:25.251324Z"
        },
        "papermill": {
          "duration": 33.236301,
          "end_time": "2025-03-24T18:08:25.253965",
          "exception": false,
          "start_time": "2025-03-24T18:07:52.017664",
          "status": "completed"
        },
        "tags": [],
        "colab": {
          "base_uri": "https://localhost:8080/"
        },
        "id": "4ec53fd2",
        "outputId": "5f4f2755-868b-46cf-aa81-ad79137fe1f1"
      },
      "outputs": [
        {
          "output_type": "stream",
          "name": "stdout",
          "text": [
            "🦥 Unsloth: Will patch your computer to enable 2x faster free finetuning.\n",
            "🦥 Unsloth Zoo will now patch everything to make training faster!\n"
          ]
        }
      ],
      "source": [
        "#import all relevant libraries\n",
        "from unsloth import FastLanguageModel\n",
        "import torch\n",
        "from trl import SFTTrainer\n",
        "from unsloth import is_bfloat16_supported\n",
        "\n",
        "from huggingface_hub import login\n",
        "from transformers import TrainingArguments\n",
        "from datasets import load_dataset\n",
        "\n",
        "import wandb\n",
        "# from kaggle_secrets import UserSecretsClient"
      ]
    },
    {
      "cell_type": "markdown",
      "id": "358fdacc",
      "metadata": {
        "papermill": {
          "duration": 0.051311,
          "end_time": "2025-03-24T18:08:25.358284",
          "exception": false,
          "start_time": "2025-03-24T18:08:25.306973",
          "status": "completed"
        },
        "tags": [],
        "id": "358fdacc"
      },
      "source": [
        "# ***Intialize huggingface and wandb tokens***"
      ]
    },
    {
      "cell_type": "code",
      "execution_count": 4,
      "id": "4bfff923",
      "metadata": {
        "execution": {
          "iopub.execute_input": "2025-03-24T18:08:25.500375Z",
          "iopub.status.busy": "2025-03-24T18:08:25.500074Z",
          "iopub.status.idle": "2025-03-24T18:08:25.724524Z",
          "shell.execute_reply": "2025-03-24T18:08:25.723818Z"
        },
        "papermill": {
          "duration": 0.317154,
          "end_time": "2025-03-24T18:08:25.725855",
          "exception": false,
          "start_time": "2025-03-24T18:08:25.408701",
          "status": "completed"
        },
        "tags": [],
        "id": "4bfff923"
      },
      "outputs": [],
      "source": [
        "from google.colab import userdata\n",
        "\n",
        "hugging_face_token = userdata.get(\"hugging_face\")\n",
        "wnb_token = userdata.get(\"wnb\")"
      ]
    },
    {
      "cell_type": "code",
      "execution_count": 5,
      "id": "139ec1cd",
      "metadata": {
        "execution": {
          "iopub.execute_input": "2025-03-24T18:08:25.829611Z",
          "iopub.status.busy": "2025-03-24T18:08:25.829351Z",
          "iopub.status.idle": "2025-03-24T18:08:25.952418Z",
          "shell.execute_reply": "2025-03-24T18:08:25.951430Z"
        },
        "papermill": {
          "duration": 0.176032,
          "end_time": "2025-03-24T18:08:25.953995",
          "exception": false,
          "start_time": "2025-03-24T18:08:25.777963",
          "status": "completed"
        },
        "tags": [],
        "id": "139ec1cd"
      },
      "outputs": [],
      "source": [
        "#login to hugging face\n",
        "login(hugging_face_token)"
      ]
    },
    {
      "cell_type": "code",
      "execution_count": 6,
      "id": "3852eaa6",
      "metadata": {
        "execution": {
          "iopub.execute_input": "2025-03-24T18:08:26.092994Z",
          "iopub.status.busy": "2025-03-24T18:08:26.092655Z",
          "iopub.status.idle": "2025-03-24T18:08:27.629147Z",
          "shell.execute_reply": "2025-03-24T18:08:27.628226Z"
        },
        "papermill": {
          "duration": 1.621444,
          "end_time": "2025-03-24T18:08:27.630819",
          "exception": false,
          "start_time": "2025-03-24T18:08:26.009375",
          "status": "completed"
        },
        "tags": [],
        "colab": {
          "base_uri": "https://localhost:8080/",
          "height": 267
        },
        "id": "3852eaa6",
        "outputId": "4bf5cf64-cb07-494d-8821-f0fafa448aea"
      },
      "outputs": [
        {
          "output_type": "stream",
          "name": "stderr",
          "text": [
            "\u001b[34m\u001b[1mwandb\u001b[0m: \u001b[33mWARNING\u001b[0m If you're specifying your api key in code, ensure this code is not shared publicly.\n",
            "\u001b[34m\u001b[1mwandb\u001b[0m: \u001b[33mWARNING\u001b[0m Consider setting the WANDB_API_KEY environment variable, or running `wandb login` from the command line.\n",
            "\u001b[34m\u001b[1mwandb\u001b[0m: No netrc file found, creating one.\n",
            "\u001b[34m\u001b[1mwandb\u001b[0m: Appending key for api.wandb.ai to your netrc file: /root/.netrc\n",
            "\u001b[34m\u001b[1mwandb\u001b[0m: Currently logged in as: \u001b[33mgajjebhargavi14\u001b[0m (\u001b[33mgajjebhargavi14-chaitanya-bharathi-institute-oftechnology\u001b[0m) to \u001b[32mhttps://api.wandb.ai\u001b[0m. Use \u001b[1m`wandb login --relogin`\u001b[0m to force relogin\n"
          ]
        },
        {
          "output_type": "display_data",
          "data": {
            "text/plain": [
              "<IPython.core.display.HTML object>"
            ],
            "text/html": [
              "Tracking run with wandb version 0.19.11"
            ]
          },
          "metadata": {}
        },
        {
          "output_type": "display_data",
          "data": {
            "text/plain": [
              "<IPython.core.display.HTML object>"
            ],
            "text/html": [
              "Run data is saved locally in <code>/content/wandb/run-20250526_100407-e9ey31z5</code>"
            ]
          },
          "metadata": {}
        },
        {
          "output_type": "display_data",
          "data": {
            "text/plain": [
              "<IPython.core.display.HTML object>"
            ],
            "text/html": [
              "Syncing run <strong><a href='https://wandb.ai/gajjebhargavi14-chaitanya-bharathi-institute-oftechnology/Fine-tune-DeepSeek-R1/runs/e9ey31z5?apiKey=4018fd68ec320971b1f1320e0542806d2f51ca0a' target=\"_blank\">spring-eon-2</a></strong> to <a href='https://wandb.ai/gajjebhargavi14-chaitanya-bharathi-institute-oftechnology/Fine-tune-DeepSeek-R1?apiKey=4018fd68ec320971b1f1320e0542806d2f51ca0a' target=\"_blank\">Weights & Biases</a> (<a href='https://wandb.me/developer-guide' target=\"_blank\">docs</a>)<br>"
            ]
          },
          "metadata": {}
        },
        {
          "output_type": "display_data",
          "data": {
            "text/plain": [
              "<IPython.core.display.HTML object>"
            ],
            "text/html": [
              " View project at <a href='https://wandb.ai/gajjebhargavi14-chaitanya-bharathi-institute-oftechnology/Fine-tune-DeepSeek-R1?apiKey=4018fd68ec320971b1f1320e0542806d2f51ca0a' target=\"_blank\">https://wandb.ai/gajjebhargavi14-chaitanya-bharathi-institute-oftechnology/Fine-tune-DeepSeek-R1?apiKey=4018fd68ec320971b1f1320e0542806d2f51ca0a</a>"
            ]
          },
          "metadata": {}
        },
        {
          "output_type": "display_data",
          "data": {
            "text/plain": [
              "<IPython.core.display.HTML object>"
            ],
            "text/html": [
              " View run at <a href='https://wandb.ai/gajjebhargavi14-chaitanya-bharathi-institute-oftechnology/Fine-tune-DeepSeek-R1/runs/e9ey31z5?apiKey=4018fd68ec320971b1f1320e0542806d2f51ca0a' target=\"_blank\">https://wandb.ai/gajjebhargavi14-chaitanya-bharathi-institute-oftechnology/Fine-tune-DeepSeek-R1/runs/e9ey31z5?apiKey=4018fd68ec320971b1f1320e0542806d2f51ca0a</a>"
            ]
          },
          "metadata": {}
        },
        {
          "output_type": "display_data",
          "data": {
            "text/plain": [
              "<IPython.core.display.HTML object>"
            ],
            "text/html": [
              "Do NOT share these links with anyone. They can be used to claim your runs."
            ]
          },
          "metadata": {}
        }
      ],
      "source": [
        "wandb.login(key=wnb_token)\n",
        "run = wandb.init(\n",
        "    project='Fine-tune-DeepSeek-R1',\n",
        "    job_type=\"training\",\n",
        "    anonymous=\"allow\"\n",
        ")"
      ]
    },
    {
      "cell_type": "markdown",
      "id": "777b74f2",
      "metadata": {
        "papermill": {
          "duration": 0.051299,
          "end_time": "2025-03-24T18:08:27.738090",
          "exception": false,
          "start_time": "2025-03-24T18:08:27.686791",
          "status": "completed"
        },
        "tags": [],
        "id": "777b74f2"
      },
      "source": [
        "# ***Load the Model and Tokenizer***"
      ]
    },
    {
      "cell_type": "code",
      "source": [
        "import os\n",
        "\n",
        "# Disable Flash Attention, Triton-based ops\n",
        "os.environ[\"FLASH_ATTENTION_FORCE_DISABLED\"] = \"1\"\n",
        "os.environ[\"DISABLE_TRITON\"] = \"1\"\n",
        "os.environ[\"USE_FLASH_ATTENTION\"] = \"0\""
      ],
      "metadata": {
        "id": "AmFwEmWmG-46"
      },
      "id": "AmFwEmWmG-46",
      "execution_count": 25,
      "outputs": []
    },
    {
      "cell_type": "code",
      "execution_count": 26,
      "id": "de9ac1f6",
      "metadata": {
        "execution": {
          "iopub.execute_input": "2025-03-24T18:08:27.845460Z",
          "iopub.status.busy": "2025-03-24T18:08:27.845113Z",
          "iopub.status.idle": "2025-03-24T18:08:27.848734Z",
          "shell.execute_reply": "2025-03-24T18:08:27.847974Z"
        },
        "papermill": {
          "duration": 0.060827,
          "end_time": "2025-03-24T18:08:27.850106",
          "exception": false,
          "start_time": "2025-03-24T18:08:27.789279",
          "status": "completed"
        },
        "tags": [],
        "id": "de9ac1f6"
      },
      "outputs": [],
      "source": [
        "# key parameters\n",
        "max_seq_length = 2048\n",
        "dtype = None\n",
        "load_in_4bit = True"
      ]
    },
    {
      "cell_type": "code",
      "execution_count": 27,
      "id": "192735bb",
      "metadata": {
        "execution": {
          "iopub.execute_input": "2025-03-24T18:08:27.961312Z",
          "iopub.status.busy": "2025-03-24T18:08:27.961070Z",
          "iopub.status.idle": "2025-03-24T18:08:57.747798Z",
          "shell.execute_reply": "2025-03-24T18:08:57.747051Z"
        },
        "papermill": {
          "duration": 29.843651,
          "end_time": "2025-03-24T18:08:57.749440",
          "exception": false,
          "start_time": "2025-03-24T18:08:27.905789",
          "status": "completed"
        },
        "tags": [],
        "colab": {
          "base_uri": "https://localhost:8080/"
        },
        "id": "192735bb",
        "outputId": "bf817917-3274-4f03-b626-1e435ab2c94b"
      },
      "outputs": [
        {
          "output_type": "stream",
          "name": "stdout",
          "text": [
            "==((====))==  Unsloth 2025.5.7: Fast Llama patching. Transformers: 4.51.3.\n",
            "   \\\\   /|    Tesla T4. Num GPUs = 1. Max memory: 14.741 GB. Platform: Linux.\n",
            "O^O/ \\_/ \\    Torch: 2.7.0+cu126. CUDA: 7.5. CUDA Toolkit: 12.6. Triton: 3.3.0\n",
            "\\        /    Bfloat16 = FALSE. FA [Xformers = 0.0.30. FA2 = False]\n",
            " \"-____-\"     Free license: http://github.com/unslothai/unsloth\n",
            "Unsloth: Fast downloading is enabled - ignore downloading bars which are red colored!\n"
          ]
        }
      ],
      "source": [
        "#load the Deepseek R1 model and tokenizer using unsolth\n",
        "model, tokenizer = FastLanguageModel.from_pretrained(\n",
        "    model_name = \"unsloth/DeepSeek-R1-Distill-Llama-8B\",\n",
        "    max_seq_length = max_seq_length,\n",
        "    dtype = dtype,\n",
        "    load_in_4bit = load_in_4bit,\n",
        "    token = hugging_face_token,\n",
        ")"
      ]
    },
    {
      "cell_type": "markdown",
      "id": "3101705f",
      "metadata": {
        "papermill": {
          "duration": 0.055568,
          "end_time": "2025-03-24T18:08:57.861056",
          "exception": false,
          "start_time": "2025-03-24T18:08:57.805488",
          "status": "completed"
        },
        "tags": [],
        "id": "3101705f"
      },
      "source": [
        "# ***Test the Model before finetune***"
      ]
    },
    {
      "cell_type": "code",
      "execution_count": 28,
      "id": "2efb9015",
      "metadata": {
        "execution": {
          "iopub.execute_input": "2025-03-24T18:08:57.975568Z",
          "iopub.status.busy": "2025-03-24T18:08:57.975263Z",
          "iopub.status.idle": "2025-03-24T18:08:57.978658Z",
          "shell.execute_reply": "2025-03-24T18:08:57.977979Z"
        },
        "papermill": {
          "duration": 0.064749,
          "end_time": "2025-03-24T18:08:57.980025",
          "exception": false,
          "start_time": "2025-03-24T18:08:57.915276",
          "status": "completed"
        },
        "tags": [],
        "id": "2efb9015"
      },
      "outputs": [],
      "source": [
        "prompt_style = \"\"\"Below is an instruction that describes a task, paired with an input that provides further context.\n",
        "Write a response that appropriately completes the request.\n",
        "Before answering, think carefully about the question and create a step-by-step chain of thoughts to ensure a logical and accurate response.\n",
        "\n",
        "### Instruction:\n",
        "You are a medical expert with advanced knowledge in clinical reasoning, diagnostics, and treatment planning.\n",
        "Please answer the following medical question.\n",
        "\n",
        "### Question:\n",
        "{}\n",
        "\n",
        "### Response:\n",
        "<think>{}\"\"\""
      ]
    },
    {
      "cell_type": "code",
      "execution_count": 29,
      "id": "789116ac",
      "metadata": {
        "execution": {
          "iopub.execute_input": "2025-03-24T18:08:58.099131Z",
          "iopub.status.busy": "2025-03-24T18:08:58.098801Z",
          "iopub.status.idle": "2025-03-24T18:08:58.102296Z",
          "shell.execute_reply": "2025-03-24T18:08:58.101565Z"
        },
        "papermill": {
          "duration": 0.06968,
          "end_time": "2025-03-24T18:08:58.103660",
          "exception": false,
          "start_time": "2025-03-24T18:08:58.033980",
          "status": "completed"
        },
        "tags": [],
        "id": "789116ac"
      },
      "outputs": [],
      "source": [
        "question = \"\"\"A 50-year-old man with a history of chronic alcohol use presents with confusion, ataxia,\n",
        "              and ophthalmoplegia. His wife reports that he has been forgetful\n",
        "              and has difficulty recalling recent events. What is the most likely diagnosis,\n",
        "              and what immediate treatment should be administered?\"\"\""
      ]
    },
    {
      "cell_type": "code",
      "execution_count": 30,
      "id": "78ec78cf",
      "metadata": {
        "execution": {
          "iopub.execute_input": "2025-03-24T18:08:58.225246Z",
          "iopub.status.busy": "2025-03-24T18:08:58.224958Z",
          "iopub.status.idle": "2025-03-24T18:09:38.483356Z",
          "shell.execute_reply": "2025-03-24T18:09:38.482402Z"
        },
        "papermill": {
          "duration": 40.378172,
          "end_time": "2025-03-24T18:09:38.539436",
          "exception": false,
          "start_time": "2025-03-24T18:08:58.161264",
          "status": "completed"
        },
        "tags": [],
        "colab": {
          "base_uri": "https://localhost:8080/"
        },
        "id": "78ec78cf",
        "outputId": "236a1ce5-187e-40fc-9979-61cf4d6e1d77"
      },
      "outputs": [
        {
          "output_type": "stream",
          "name": "stdout",
          "text": [
            "\n",
            "<think>\n",
            "Okay, so I'm trying to figure out the diagnosis and treatment for this 50-year-old man with a history of chronic alcohol use. He's presenting with confusion, ataxia, and ophthalmoplegia. His wife also mentioned he's been forgetful and has trouble remembering recent events. Hmm, let's break this down step by step.\n",
            "\n",
            "First, I know that chronic alcohol use can lead to various neurological issues. The symptoms here are a bit concerning. Confusion and memory problems make me think of delirium or possibly Wernicke-Korsakoff syndrome. I remember that Wernicke's encephalopathy is a acute condition, often due to thiamine deficiency, and it can lead to Korsakoff syndrome, which is characterized by severe memory loss and confabulation.\n",
            "\n",
            "Ataxia is a sign of coordination problems, which could be related to either Wernicke's or maybe cerebellar issues. Ophthalmoplegia, which is paralysis of the eye muscles, is another clue. I think Wernicke's encephalopathy can cause eye movements to be abnormal, like nystagmus, but also ophthalmoplegia might be involved, especially if there's damage to the brainstem.\n",
            "\n",
            "Putting it all together, the combination of confusion, ataxia, and ophthalmoplegia along with memory loss points towards Wernicke-Korsakoff syndrome. That makes sense because chronic alcoholism is a known risk factor for this condition. \n",
            "\n",
            "Now, for treatment, I recall that thiamine (vitamin B1) is the mainstay. It's usually given intravenously because oral forms might not be absorbed well, especially in acute cases. The patient might need monitoring for any signs of improvement and should be kept in a safe environment to prevent further complications.\n",
            "\n",
            "I should also consider other possibilities, but Wernicke-Korsakoff seems the most likely. Other conditions like delirium tremens are more acute and might present with more agitation, but the ophthalmoplegia is a strong indicator towards the brainstem involvement seen in Wernicke's.\n",
            "\n",
            "So, the most likely diagnosis is Wernicke-Korsakoff syndrome, and the immediate treatment would be IV thiamine.\n",
            "</think>\n",
            "\n",
            "The most likely diagnosis for the 50-year-old man with chronic alcohol use, presenting with confusion, ataxia, ophthalmoplegia, and memory issues, is **Wernicke-Korsakoff syndrome**. This condition arises from thiamine (vitamin B1) deficiency, commonly seen in chronic alcoholism. \n",
            "\n",
            "**Immediate Treatment:** Intravenous thiamine is the primary intervention. This ensures adequate absorption and addresses the acute neurological deficits. Monitoring and supportive care in a safe environment are also crucial to prevent complications and aid in recovery.<｜end▁of▁sentence｜>\n"
          ]
        }
      ],
      "source": [
        "#Enable Optimized inference mode for unsloth models\n",
        "FastLanguageModel.for_inference(model)\n",
        "\n",
        "# Format the question using the structured prompt\n",
        "inputs = tokenizer([prompt_style.format(question, \"\")], return_tensors = \"pt\").to(\"cuda\")\n",
        "\n",
        "#Generate the response using the model\n",
        "outputs = model.generate(\n",
        "    input_ids = inputs.input_ids,\n",
        "    attention_mask = inputs.attention_mask,\n",
        "    max_new_tokens = 1200,\n",
        "    use_cache = True\n",
        ")\n",
        "\n",
        "#Decode the output response in the readable text\n",
        "response = tokenizer.batch_decode(outputs)\n",
        "\n",
        "#Show and print only relevant response\n",
        "print(response[0].split(\"### Response:\")[1])"
      ]
    },
    {
      "cell_type": "markdown",
      "id": "d1b6c54c",
      "metadata": {
        "papermill": {
          "duration": 0.053327,
          "end_time": "2025-03-24T18:09:38.644288",
          "exception": false,
          "start_time": "2025-03-24T18:09:38.590961",
          "status": "completed"
        },
        "tags": [],
        "id": "d1b6c54c"
      },
      "source": [
        "# ***Finetune Step by Step***"
      ]
    },
    {
      "cell_type": "code",
      "execution_count": 31,
      "id": "fdbc2eca",
      "metadata": {
        "execution": {
          "iopub.execute_input": "2025-03-24T18:09:38.748503Z",
          "iopub.status.busy": "2025-03-24T18:09:38.748213Z",
          "iopub.status.idle": "2025-03-24T18:09:38.751698Z",
          "shell.execute_reply": "2025-03-24T18:09:38.751029Z"
        },
        "papermill": {
          "duration": 0.056823,
          "end_time": "2025-03-24T18:09:38.752786",
          "exception": false,
          "start_time": "2025-03-24T18:09:38.695963",
          "status": "completed"
        },
        "tags": [],
        "id": "fdbc2eca"
      },
      "outputs": [],
      "source": [
        "# step 1:\n",
        "train_prompt_style = \"\"\"Below is an instruction that describes a task, paired with an input that provides further context.\n",
        "Write a response that appropriately completes the request.\n",
        "Before answering, think carefully about the question and create a step-by-step chain of thoughts to ensure a logical and accurate response.\n",
        "\n",
        "### Instruction:\n",
        "You are a medical expert with advanced knowledge in clinical reasoning, diagnostics, and treatment planning.\n",
        "Please answer the following medical question.\n",
        "\n",
        "### Question:\n",
        "{}\n",
        "\n",
        "### Response:\n",
        "<think>\n",
        "{}\n",
        "</think>\n",
        "{}\"\"\""
      ]
    },
    {
      "cell_type": "code",
      "execution_count": 32,
      "id": "4007a975",
      "metadata": {
        "execution": {
          "iopub.execute_input": "2025-03-24T18:09:38.857958Z",
          "iopub.status.busy": "2025-03-24T18:09:38.857683Z",
          "iopub.status.idle": "2025-03-24T18:09:43.994140Z",
          "shell.execute_reply": "2025-03-24T18:09:43.993266Z"
        },
        "papermill": {
          "duration": 5.19011,
          "end_time": "2025-03-24T18:09:43.995436",
          "exception": false,
          "start_time": "2025-03-24T18:09:38.805326",
          "status": "completed"
        },
        "tags": [],
        "id": "4007a975"
      },
      "outputs": [],
      "source": [
        "# step 2: Download the dataset using huggingface and format it for tuning\n",
        "dataset = load_dataset(\"FreedomIntelligence/medical-o1-reasoning-SFT\", \"en\", split = \"train[0:1000]\", trust_remote_code = True)"
      ]
    },
    {
      "cell_type": "code",
      "execution_count": 33,
      "id": "ef78602b",
      "metadata": {
        "execution": {
          "iopub.execute_input": "2025-03-24T18:09:44.103417Z",
          "iopub.status.busy": "2025-03-24T18:09:44.103054Z",
          "iopub.status.idle": "2025-03-24T18:09:44.107984Z",
          "shell.execute_reply": "2025-03-24T18:09:44.107296Z"
        },
        "papermill": {
          "duration": 0.06044,
          "end_time": "2025-03-24T18:09:44.109149",
          "exception": false,
          "start_time": "2025-03-24T18:09:44.048709",
          "status": "completed"
        },
        "tags": [],
        "colab": {
          "base_uri": "https://localhost:8080/"
        },
        "id": "ef78602b",
        "outputId": "c2702600-df58-4e9c-8682-3d881e64fb65"
      },
      "outputs": [
        {
          "output_type": "execute_result",
          "data": {
            "text/plain": [
              "Dataset({\n",
              "    features: ['Question', 'Complex_CoT', 'Response'],\n",
              "    num_rows: 1000\n",
              "})"
            ]
          },
          "metadata": {},
          "execution_count": 33
        }
      ],
      "source": [
        "dataset"
      ]
    },
    {
      "cell_type": "code",
      "execution_count": 34,
      "id": "15920bc9",
      "metadata": {
        "execution": {
          "iopub.execute_input": "2025-03-24T18:09:44.214783Z",
          "iopub.status.busy": "2025-03-24T18:09:44.214542Z",
          "iopub.status.idle": "2025-03-24T18:09:44.221006Z",
          "shell.execute_reply": "2025-03-24T18:09:44.220124Z"
        },
        "papermill": {
          "duration": 0.060267,
          "end_time": "2025-03-24T18:09:44.222221",
          "exception": false,
          "start_time": "2025-03-24T18:09:44.161954",
          "status": "completed"
        },
        "tags": [],
        "colab": {
          "base_uri": "https://localhost:8080/"
        },
        "id": "15920bc9",
        "outputId": "05e70cbd-1feb-4037-a88f-02c261c800a0"
      },
      "outputs": [
        {
          "output_type": "execute_result",
          "data": {
            "text/plain": [
              "{'Question': 'Given the symptoms of sudden weakness in the left arm and leg, recent long-distance travel, and the presence of swollen and tender right lower leg, what specific cardiac abnormality is most likely to be found upon further evaluation that could explain these findings?',\n",
              " 'Complex_CoT': \"Okay, let's see what's going on here. We've got sudden weakness in the person's left arm and leg - and that screams something neuro-related, maybe a stroke?\\n\\nBut wait, there's more. The right lower leg is swollen and tender, which is like waving a big flag for deep vein thrombosis, especially after a long flight or sitting around a lot.\\n\\nSo, now I'm thinking, how could a clot in the leg end up causing issues like weakness or stroke symptoms?\\n\\nOh, right! There's this thing called a paradoxical embolism. It can happen if there's some kind of short circuit in the heart - like a hole that shouldn't be there.\\n\\nLet's put this together: if a blood clot from the leg somehow travels to the left side of the heart, it could shoot off to the brain and cause that sudden weakness by blocking blood flow there.\\n\\nHmm, but how would the clot get from the right side of the heart to the left without going through the lungs and getting filtered out?\\n\\nHere's where our cardiac anomaly comes in: a patent foramen ovale or PFO. That's like a sneaky little shortcut in the heart between the right and left atria.\\n\\nAnd it's actually pretty common, found in about a quarter of adults, which definitely makes it the top suspect here.\\n\\nSo with all these pieces - long travel, leg clot, sudden weakness - a PFO fits the bill perfectly, letting a clot cross over and cause all this.\\n\\nEverything fits together pretty neatly, so I'd bet PFO is the heart issue waiting to be discovered. Yeah, that really clicks into place!\",\n",
              " 'Response': 'The specific cardiac abnormality most likely to be found in this scenario is a patent foramen ovale (PFO). This condition could allow a blood clot from the venous system, such as one from a deep vein thrombosis in the leg, to bypass the lungs and pass directly into the arterial circulation. This can occur when the clot moves from the right atrium to the left atrium through the PFO. Once in the arterial system, the clot can travel to the brain, potentially causing an embolic stroke, which would explain the sudden weakness in the left arm and leg. The connection between the recent travel, which increases the risk of deep vein thrombosis, and the neurological symptoms suggests the presence of a PFO facilitating a paradoxical embolism.'}"
            ]
          },
          "metadata": {},
          "execution_count": 34
        }
      ],
      "source": [
        "dataset[0]"
      ]
    },
    {
      "cell_type": "code",
      "execution_count": 35,
      "id": "8d66193c",
      "metadata": {
        "execution": {
          "iopub.execute_input": "2025-03-24T18:09:44.326587Z",
          "iopub.status.busy": "2025-03-24T18:09:44.326353Z",
          "iopub.status.idle": "2025-03-24T18:09:44.330786Z",
          "shell.execute_reply": "2025-03-24T18:09:44.329959Z"
        },
        "papermill": {
          "duration": 0.058071,
          "end_time": "2025-03-24T18:09:44.332182",
          "exception": false,
          "start_time": "2025-03-24T18:09:44.274111",
          "status": "completed"
        },
        "tags": [],
        "colab": {
          "base_uri": "https://localhost:8080/",
          "height": 36
        },
        "id": "8d66193c",
        "outputId": "d9e25c02-3599-482f-8454-be8ce104e939"
      },
      "outputs": [
        {
          "output_type": "execute_result",
          "data": {
            "text/plain": [
              "'<｜end▁of▁sentence｜>'"
            ],
            "application/vnd.google.colaboratory.intrinsic+json": {
              "type": "string"
            }
          },
          "metadata": {},
          "execution_count": 35
        }
      ],
      "source": [
        "# we need to format the dataset to fit our prompt style\n",
        "end_of_sentence_token = tokenizer.eos_token\n",
        "end_of_sentence_token"
      ]
    },
    {
      "cell_type": "code",
      "execution_count": 36,
      "id": "1e3a7963",
      "metadata": {
        "execution": {
          "iopub.execute_input": "2025-03-24T18:09:44.435431Z",
          "iopub.status.busy": "2025-03-24T18:09:44.435199Z",
          "iopub.status.idle": "2025-03-24T18:09:44.438955Z",
          "shell.execute_reply": "2025-03-24T18:09:44.438360Z"
        },
        "papermill": {
          "duration": 0.056588,
          "end_time": "2025-03-24T18:09:44.440093",
          "exception": false,
          "start_time": "2025-03-24T18:09:44.383505",
          "status": "completed"
        },
        "tags": [],
        "id": "1e3a7963"
      },
      "outputs": [],
      "source": [
        "#formitting prompt function\n",
        "def formatting_prompts_func(examples):\n",
        "    inputs = examples[\"Question\"]\n",
        "    cots = examples[\"Complex_CoT\"]\n",
        "    outputs = examples[\"Response\"]\n",
        "    texts = []\n",
        "    for input, cot, output in zip(inputs, cots, outputs):\n",
        "        text = train_prompt_style.format(input, cot, output) + end_of_sentence_token\n",
        "        texts.append(text)\n",
        "    return {\n",
        "        \"text\": texts,\n",
        "    }"
      ]
    },
    {
      "cell_type": "code",
      "execution_count": 37,
      "id": "6675bf32",
      "metadata": {
        "execution": {
          "iopub.execute_input": "2025-03-24T18:09:44.545928Z",
          "iopub.status.busy": "2025-03-24T18:09:44.545649Z",
          "iopub.status.idle": "2025-03-24T18:09:44.615539Z",
          "shell.execute_reply": "2025-03-24T18:09:44.614630Z"
        },
        "papermill": {
          "duration": 0.123784,
          "end_time": "2025-03-24T18:09:44.617078",
          "exception": false,
          "start_time": "2025-03-24T18:09:44.493294",
          "status": "completed"
        },
        "tags": [],
        "colab": {
          "base_uri": "https://localhost:8080/",
          "height": 181
        },
        "id": "6675bf32",
        "outputId": "a7abb6be-350c-4fa4-f83c-07444ea5607e"
      },
      "outputs": [
        {
          "output_type": "execute_result",
          "data": {
            "text/plain": [
              "\"Below is an instruction that describes a task, paired with an input that provides further context. \\nWrite a response that appropriately completes the request. \\nBefore answering, think carefully about the question and create a step-by-step chain of thoughts to ensure a logical and accurate response.\\n\\n### Instruction:\\nYou are a medical expert with advanced knowledge in clinical reasoning, diagnostics, and treatment planning. \\nPlease answer the following medical question. \\n\\n### Question:\\nGiven the symptoms of sudden weakness in the left arm and leg, recent long-distance travel, and the presence of swollen and tender right lower leg, what specific cardiac abnormality is most likely to be found upon further evaluation that could explain these findings?\\n\\n### Response:\\n<think>\\nOkay, let's see what's going on here. We've got sudden weakness in the person's left arm and leg - and that screams something neuro-related, maybe a stroke?\\n\\nBut wait, there's more. The right lower leg is swollen and tender, which is like waving a big flag for deep vein thrombosis, especially after a long flight or sitting around a lot.\\n\\nSo, now I'm thinking, how could a clot in the leg end up causing issues like weakness or stroke symptoms?\\n\\nOh, right! There's this thing called a paradoxical embolism. It can happen if there's some kind of short circuit in the heart - like a hole that shouldn't be there.\\n\\nLet's put this together: if a blood clot from the leg somehow travels to the left side of the heart, it could shoot off to the brain and cause that sudden weakness by blocking blood flow there.\\n\\nHmm, but how would the clot get from the right side of the heart to the left without going through the lungs and getting filtered out?\\n\\nHere's where our cardiac anomaly comes in: a patent foramen ovale or PFO. That's like a sneaky little shortcut in the heart between the right and left atria.\\n\\nAnd it's actually pretty common, found in about a quarter of adults, which definitely makes it the top suspect here.\\n\\nSo with all these pieces - long travel, leg clot, sudden weakness - a PFO fits the bill perfectly, letting a clot cross over and cause all this.\\n\\nEverything fits together pretty neatly, so I'd bet PFO is the heart issue waiting to be discovered. Yeah, that really clicks into place!\\n</think>\\nThe specific cardiac abnormality most likely to be found in this scenario is a patent foramen ovale (PFO). This condition could allow a blood clot from the venous system, such as one from a deep vein thrombosis in the leg, to bypass the lungs and pass directly into the arterial circulation. This can occur when the clot moves from the right atrium to the left atrium through the PFO. Once in the arterial system, the clot can travel to the brain, potentially causing an embolic stroke, which would explain the sudden weakness in the left arm and leg. The connection between the recent travel, which increases the risk of deep vein thrombosis, and the neurological symptoms suggests the presence of a PFO facilitating a paradoxical embolism.<｜end▁of▁sentence｜>\""
            ],
            "application/vnd.google.colaboratory.intrinsic+json": {
              "type": "string"
            }
          },
          "metadata": {},
          "execution_count": 37
        }
      ],
      "source": [
        "# update dataset formatting\n",
        "dataset_finetune = dataset.map(formatting_prompts_func, batched = True,)\n",
        "dataset_finetune[\"text\"][0]"
      ]
    },
    {
      "cell_type": "code",
      "execution_count": 38,
      "id": "22e637ed",
      "metadata": {
        "execution": {
          "iopub.execute_input": "2025-03-24T18:09:44.739732Z",
          "iopub.status.busy": "2025-03-24T18:09:44.739429Z",
          "iopub.status.idle": "2025-03-24T18:09:51.164300Z",
          "shell.execute_reply": "2025-03-24T18:09:51.163518Z"
        },
        "papermill": {
          "duration": 6.487358,
          "end_time": "2025-03-24T18:09:51.165808",
          "exception": false,
          "start_time": "2025-03-24T18:09:44.678450",
          "status": "completed"
        },
        "tags": [],
        "id": "22e637ed"
      },
      "outputs": [],
      "source": [
        "model_lora = FastLanguageModel.get_peft_model(\n",
        "    model,\n",
        "    r=16,\n",
        "    target_modules=[\n",
        "        \"q_proj\",\n",
        "        \"k_proj\",\n",
        "        \"v_proj\",\n",
        "        \"o_proj\",\n",
        "        \"gate_proj\",\n",
        "        \"up_proj\",\n",
        "        \"down_proj\",\n",
        "    ],\n",
        "    lora_alpha=16,\n",
        "    lora_dropout=0,\n",
        "    bias=\"none\",\n",
        "    use_gradient_checkpointing=\"unsloth\",\n",
        "    random_state=3407,\n",
        "    use_rslora=False,\n",
        "    loftq_config=None,\n",
        ")"
      ]
    },
    {
      "cell_type": "code",
      "source": [
        "!pip install -U bitsandbytes triton"
      ],
      "metadata": {
        "colab": {
          "base_uri": "https://localhost:8080/"
        },
        "id": "OjuCMxlvIRnd",
        "outputId": "6485d5a6-9a8a-460c-ab69-f6279fb34658"
      },
      "id": "OjuCMxlvIRnd",
      "execution_count": 41,
      "outputs": [
        {
          "output_type": "stream",
          "name": "stdout",
          "text": [
            "Requirement already satisfied: bitsandbytes in /usr/local/lib/python3.11/dist-packages (0.45.5)\n",
            "Requirement already satisfied: triton in /usr/local/lib/python3.11/dist-packages (3.3.0)\n",
            "Requirement already satisfied: torch<3,>=2.0 in /usr/local/lib/python3.11/dist-packages (from bitsandbytes) (2.7.0)\n",
            "Requirement already satisfied: numpy>=1.17 in /usr/local/lib/python3.11/dist-packages (from bitsandbytes) (2.0.2)\n",
            "Requirement already satisfied: setuptools>=40.8.0 in /usr/local/lib/python3.11/dist-packages (from triton) (75.2.0)\n",
            "Requirement already satisfied: filelock in /usr/local/lib/python3.11/dist-packages (from torch<3,>=2.0->bitsandbytes) (3.18.0)\n",
            "Requirement already satisfied: typing-extensions>=4.10.0 in /usr/local/lib/python3.11/dist-packages (from torch<3,>=2.0->bitsandbytes) (4.13.2)\n",
            "Requirement already satisfied: sympy>=1.13.3 in /usr/local/lib/python3.11/dist-packages (from torch<3,>=2.0->bitsandbytes) (1.14.0)\n",
            "Requirement already satisfied: networkx in /usr/local/lib/python3.11/dist-packages (from torch<3,>=2.0->bitsandbytes) (3.4.2)\n",
            "Requirement already satisfied: jinja2 in /usr/local/lib/python3.11/dist-packages (from torch<3,>=2.0->bitsandbytes) (3.1.6)\n",
            "Requirement already satisfied: fsspec in /usr/local/lib/python3.11/dist-packages (from torch<3,>=2.0->bitsandbytes) (2025.3.0)\n",
            "Requirement already satisfied: nvidia-cuda-nvrtc-cu12==12.6.77 in /usr/local/lib/python3.11/dist-packages (from torch<3,>=2.0->bitsandbytes) (12.6.77)\n",
            "Requirement already satisfied: nvidia-cuda-runtime-cu12==12.6.77 in /usr/local/lib/python3.11/dist-packages (from torch<3,>=2.0->bitsandbytes) (12.6.77)\n",
            "Requirement already satisfied: nvidia-cuda-cupti-cu12==12.6.80 in /usr/local/lib/python3.11/dist-packages (from torch<3,>=2.0->bitsandbytes) (12.6.80)\n",
            "Requirement already satisfied: nvidia-cudnn-cu12==9.5.1.17 in /usr/local/lib/python3.11/dist-packages (from torch<3,>=2.0->bitsandbytes) (9.5.1.17)\n",
            "Requirement already satisfied: nvidia-cublas-cu12==12.6.4.1 in /usr/local/lib/python3.11/dist-packages (from torch<3,>=2.0->bitsandbytes) (12.6.4.1)\n",
            "Requirement already satisfied: nvidia-cufft-cu12==11.3.0.4 in /usr/local/lib/python3.11/dist-packages (from torch<3,>=2.0->bitsandbytes) (11.3.0.4)\n",
            "Requirement already satisfied: nvidia-curand-cu12==10.3.7.77 in /usr/local/lib/python3.11/dist-packages (from torch<3,>=2.0->bitsandbytes) (10.3.7.77)\n",
            "Requirement already satisfied: nvidia-cusolver-cu12==11.7.1.2 in /usr/local/lib/python3.11/dist-packages (from torch<3,>=2.0->bitsandbytes) (11.7.1.2)\n",
            "Requirement already satisfied: nvidia-cusparse-cu12==12.5.4.2 in /usr/local/lib/python3.11/dist-packages (from torch<3,>=2.0->bitsandbytes) (12.5.4.2)\n",
            "Requirement already satisfied: nvidia-cusparselt-cu12==0.6.3 in /usr/local/lib/python3.11/dist-packages (from torch<3,>=2.0->bitsandbytes) (0.6.3)\n",
            "Requirement already satisfied: nvidia-nccl-cu12==2.26.2 in /usr/local/lib/python3.11/dist-packages (from torch<3,>=2.0->bitsandbytes) (2.26.2)\n",
            "Requirement already satisfied: nvidia-nvtx-cu12==12.6.77 in /usr/local/lib/python3.11/dist-packages (from torch<3,>=2.0->bitsandbytes) (12.6.77)\n",
            "Requirement already satisfied: nvidia-nvjitlink-cu12==12.6.85 in /usr/local/lib/python3.11/dist-packages (from torch<3,>=2.0->bitsandbytes) (12.6.85)\n",
            "Requirement already satisfied: nvidia-cufile-cu12==1.11.1.6 in /usr/local/lib/python3.11/dist-packages (from torch<3,>=2.0->bitsandbytes) (1.11.1.6)\n",
            "Requirement already satisfied: mpmath<1.4,>=1.1.0 in /usr/local/lib/python3.11/dist-packages (from sympy>=1.13.3->torch<3,>=2.0->bitsandbytes) (1.3.0)\n",
            "Requirement already satisfied: MarkupSafe>=2.0 in /usr/local/lib/python3.11/dist-packages (from jinja2->torch<3,>=2.0->bitsandbytes) (3.0.2)\n"
          ]
        }
      ]
    },
    {
      "cell_type": "code",
      "execution_count": 43,
      "id": "dd8b9c60",
      "metadata": {
        "execution": {
          "iopub.execute_input": "2025-03-24T18:09:51.272732Z",
          "iopub.status.busy": "2025-03-24T18:09:51.272464Z",
          "iopub.status.idle": "2025-03-24T18:09:54.661428Z",
          "shell.execute_reply": "2025-03-24T18:09:54.660627Z"
        },
        "papermill": {
          "duration": 3.443826,
          "end_time": "2025-03-24T18:09:54.663114",
          "exception": false,
          "start_time": "2025-03-24T18:09:51.219288",
          "status": "completed"
        },
        "tags": [],
        "id": "dd8b9c60"
      },
      "outputs": [],
      "source": [
        "# Initialize the finetune trainer\n",
        "trainer = SFTTrainer(\n",
        "    model = model_lora,\n",
        "    tokenizer = tokenizer,\n",
        "    train_dataset = dataset_finetune,\n",
        "    dataset_text_field = \"text\",\n",
        "    max_seq_length = max_seq_length,\n",
        "    dataset_num_proc = 2,\n",
        "\n",
        "    #training arguments\n",
        "     args=TrainingArguments(\n",
        "        per_device_train_batch_size=2,\n",
        "        gradient_accumulation_steps=4,\n",
        "        # Use num_train_epochs = 1, warmup_ratio for full training runs!\n",
        "        warmup_steps=5,\n",
        "        max_steps=60,\n",
        "        learning_rate=2e-4,\n",
        "        fp16=not is_bfloat16_supported(),\n",
        "        bf16=is_bfloat16_supported(),\n",
        "        logging_steps=10,\n",
        "        optim=\"adamw_8bit\",\n",
        "        weight_decay=0.01,\n",
        "        lr_scheduler_type=\"linear\",\n",
        "        seed=3407,\n",
        "        output_dir=\"outputs\",\n",
        "    ),\n",
        "\n",
        ")"
      ]
    },
    {
      "cell_type": "code",
      "execution_count": 44,
      "id": "1c9a7c4d",
      "metadata": {
        "execution": {
          "iopub.execute_input": "2025-03-24T18:09:54.773033Z",
          "iopub.status.busy": "2025-03-24T18:09:54.772712Z",
          "iopub.status.idle": "2025-03-24T18:54:49.213089Z",
          "shell.execute_reply": "2025-03-24T18:54:49.212317Z"
        },
        "papermill": {
          "duration": 2694.495897,
          "end_time": "2025-03-24T18:54:49.214457",
          "exception": false,
          "start_time": "2025-03-24T18:09:54.718560",
          "status": "completed"
        },
        "tags": [],
        "colab": {
          "base_uri": "https://localhost:8080/"
        },
        "id": "1c9a7c4d",
        "outputId": "cbb78b03-d82a-495a-d412-333473dfc9bd"
      },
      "outputs": [
        {
          "output_type": "stream",
          "name": "stderr",
          "text": [
            "==((====))==  Unsloth - 2x faster free finetuning | Num GPUs used = 1\n",
            "   \\\\   /|    Num examples = 1,000 | Num Epochs = 1 | Total steps = 60\n",
            "O^O/ \\_/ \\    Batch size per device = 2 | Gradient accumulation steps = 4\n",
            "\\        /    Data Parallel GPUs = 1 | Total batch size (2 x 4 x 1) = 8\n",
            " \"-____-\"     Trainable parameters = 41,943,040/8,000,000,000 (0.52% trained)\n"
          ]
        },
        {
          "output_type": "stream",
          "name": "stdout",
          "text": [
            "Error details: PassManager::run failed\n",
            "This might be related to PyTorch/CUDA optimization passes failing.\n"
          ]
        }
      ],
      "source": [
        "try:\n",
        "    trainer_stats = trainer.train()\n",
        "except RuntimeError as e:\n",
        "    print(f\"Error details: {e}\")\n",
        "    # If it's CUDA OOM, you might see this in the error\n",
        "    if \"CUDA out of memory\" in str(e):\n",
        "        print(\"This is a CUDA memory error. Try further reducing batch size or model size.\")\n",
        "    elif \"PassManager::run failed\" in str(e):\n",
        "        print(\"This might be related to PyTorch/CUDA optimization passes failing.\")\n",
        "# trainer_stats = trainer.train()"
      ]
    },
    {
      "cell_type": "code",
      "execution_count": 45,
      "id": "821e28e2",
      "metadata": {
        "execution": {
          "iopub.execute_input": "2025-03-24T18:54:49.327714Z",
          "iopub.status.busy": "2025-03-24T18:54:49.327410Z",
          "iopub.status.idle": "2025-03-24T18:54:50.907049Z",
          "shell.execute_reply": "2025-03-24T18:54:50.906251Z"
        },
        "papermill": {
          "duration": 1.639579,
          "end_time": "2025-03-24T18:54:50.908495",
          "exception": false,
          "start_time": "2025-03-24T18:54:49.268916",
          "status": "completed"
        },
        "tags": [],
        "colab": {
          "base_uri": "https://localhost:8080/",
          "height": 122
        },
        "id": "821e28e2",
        "outputId": "ed98e3c0-27a7-4b3a-c6ca-b9b68c8a9c0a"
      },
      "outputs": [
        {
          "output_type": "display_data",
          "data": {
            "text/plain": [
              "<IPython.core.display.HTML object>"
            ],
            "text/html": []
          },
          "metadata": {}
        },
        {
          "output_type": "display_data",
          "data": {
            "text/plain": [
              "<IPython.core.display.HTML object>"
            ],
            "text/html": [
              " View run <strong style=\"color:#cdcd00\">spring-eon-2</strong> at: <a href='https://wandb.ai/gajjebhargavi14-chaitanya-bharathi-institute-oftechnology/Fine-tune-DeepSeek-R1/runs/e9ey31z5?apiKey=4018fd68ec320971b1f1320e0542806d2f51ca0a' target=\"_blank\">https://wandb.ai/gajjebhargavi14-chaitanya-bharathi-institute-oftechnology/Fine-tune-DeepSeek-R1/runs/e9ey31z5?apiKey=4018fd68ec320971b1f1320e0542806d2f51ca0a</a><br> View project at: <a href='https://wandb.ai/gajjebhargavi14-chaitanya-bharathi-institute-oftechnology/Fine-tune-DeepSeek-R1?apiKey=4018fd68ec320971b1f1320e0542806d2f51ca0a' target=\"_blank\">https://wandb.ai/gajjebhargavi14-chaitanya-bharathi-institute-oftechnology/Fine-tune-DeepSeek-R1?apiKey=4018fd68ec320971b1f1320e0542806d2f51ca0a</a><br>Synced 5 W&B file(s), 0 media file(s), 0 artifact file(s) and 0 other file(s)"
            ]
          },
          "metadata": {}
        },
        {
          "output_type": "display_data",
          "data": {
            "text/plain": [
              "<IPython.core.display.HTML object>"
            ],
            "text/html": [
              "Find logs at: <code>./wandb/run-20250526_100407-e9ey31z5/logs</code>"
            ]
          },
          "metadata": {}
        }
      ],
      "source": [
        "import wandb\n",
        "# Save the fine-tuned model\n",
        "wandb.finish()"
      ]
    },
    {
      "cell_type": "code",
      "execution_count": 46,
      "id": "a6b1724a",
      "metadata": {
        "execution": {
          "iopub.execute_input": "2025-03-24T18:54:51.020544Z",
          "iopub.status.busy": "2025-03-24T18:54:51.020245Z",
          "iopub.status.idle": "2025-03-24T18:55:29.843465Z",
          "shell.execute_reply": "2025-03-24T18:55:29.842349Z"
        },
        "papermill": {
          "duration": 38.933366,
          "end_time": "2025-03-24T18:55:29.899287",
          "exception": false,
          "start_time": "2025-03-24T18:54:50.965921",
          "status": "completed"
        },
        "tags": [],
        "colab": {
          "base_uri": "https://localhost:8080/"
        },
        "id": "a6b1724a",
        "outputId": "38f82478-860d-41b2-bfc6-c4782f7c39dd"
      },
      "outputs": [
        {
          "output_type": "stream",
          "name": "stdout",
          "text": [
            "\n",
            "<think>\n",
            "Okay, so I'm trying to figure out the diagnosis and treatment for this 25-year-old woman who's presenting with unintentional weight loss, heat intolerance, and frequent palpitations. She has an enlarged thyroid gland that's not tender and exophthalmos. The labs show low TSH and high free T3 and T4. Hmm, let me break this down.\n",
            "\n",
            "First, the symptoms: weight loss, heat intolerance, and palpitations. Those are classic signs of hyperthyroidism, but I should consider other possibilities too. She's young, so it's not as common as in older adults. Let's think about the thyroid function tests. Low TSH and elevated free T3 and T4. That points towards hyperthyroidism because TSH is low when the thyroid is overactive, and free T4/T3 levels are high.\n",
            "\n",
            "Now, the thyroid exam: diffusely enlarged, non-tender. That suggests it's not a nodular goiter but a more generalized enlargement. Exophthalmos is present, which is when the eyes bulge out because the thyroid is pushing forward. That's a sign of Graves' disease, which is an autoimmune condition causing hyperthyroidism.\n",
            "\n",
            "Graves' typically presents with these symptoms, especially in younger women. The labs match: low TSH, high T3/T4. So, the most likely diagnosis is Graves' disease.\n",
            "\n",
            "As for treatment, I should consider antithyroid medications. Methimazole is commonly used. Beta-blockers might help with the palpitations, so maybe start that as well. If she doesn't respond, or if there are severe symptoms, radioactive iodine or surgery might be next options. But for now, let's stick with the medications.\n",
            "\n",
            "I should also think about other possibilities to rule out. Could it be a thyroiditis? But that usually presents with high TSH and then rising T4, not low TSH. What about hypothyroidism? No, because TSH is low and T3/T4 are high. Maybe something else? Maybe a thyroid tumor, but exophthalmos and diffusely enlarged gland points more towards Graves'.\n",
            "\n",
            "So, putting it all together, the diagnosis is Graves' disease, and the treatment is methimazole along with beta-blockers for the heart issues. That should address her symptoms effectively.\n",
            "</think>\n",
            "\n",
            "The most likely diagnosis for the 25-year-old woman presenting with unintentional weight loss, heat intolerance, and frequent palpitations, along with a diffusely enlarged, non-tender thyroid gland and exophthalmos, is **Graves' disease**. This is an autoimmune condition characterized by hyperthyroidism. The symptoms align with those typically associated with Graves' disease, and the laboratory results of low TSH and elevated free T3 and T4 support this diagnosis.\n",
            "\n",
            "**Treatment Options:**\n",
            "1. **Antithyroid Medications:** Methimazole is a first-line treatment for Graves' disease. It helps reduce thyroid hormone production and alleviate symptoms.\n",
            "2. **Beta-Blockers:** To manage palpitations, beta-blockers such as propranolol may be prescribed to reduce heart rate and blood pressure.\n",
            "3. **Radioactive Iodine Therapy or Surgery:** If antithyroid medications are ineffective or if there are severe complications, radioactive iodine therapy or surgery may be considered.\n",
            "\n",
            "These treatments are designed to address the hyperthyroidism and manage associated symptoms effectively.<｜end▁of▁sentence｜>\n"
          ]
        }
      ],
      "source": [
        "question = \"A 25-year-old woman presents with unintentional weight loss, heat intolerance, and frequent episodes of palpitations. On examination, she has a diffusely enlarged, non-tender thyroid gland and exophthalmos. Her laboratory results show low TSH and elevated free T3 and T4. What is the most likely diagnosis, and what are the treatment options?\"\n",
        "\n",
        "\n",
        "FastLanguageModel.for_inference(model)  # Unsloth has 2x faster inference!\n",
        "inputs = tokenizer([prompt_style.format(question, \"\")], return_tensors=\"pt\").to(\"cuda\")\n",
        "\n",
        "outputs = model.generate(\n",
        "    input_ids=inputs.input_ids,\n",
        "    attention_mask=inputs.attention_mask,\n",
        "    max_new_tokens=1200,\n",
        "    use_cache=True,\n",
        ")\n",
        "response = tokenizer.batch_decode(outputs)\n",
        "print(response[0].split(\"### Response:\")[1])"
      ]
    },
    {
      "cell_type": "code",
      "execution_count": 47,
      "id": "5df34076",
      "metadata": {
        "execution": {
          "iopub.execute_input": "2025-03-24T18:55:30.007758Z",
          "iopub.status.busy": "2025-03-24T18:55:30.007450Z",
          "iopub.status.idle": "2025-03-24T18:56:01.025677Z",
          "shell.execute_reply": "2025-03-24T18:56:01.024691Z"
        },
        "papermill": {
          "duration": 31.129733,
          "end_time": "2025-03-24T18:56:01.081941",
          "exception": false,
          "start_time": "2025-03-24T18:55:29.952208",
          "status": "completed"
        },
        "tags": [],
        "colab": {
          "base_uri": "https://localhost:8080/"
        },
        "id": "5df34076",
        "outputId": "e4c8ae55-9563-46f7-b37d-88e5bf64fbd6"
      },
      "outputs": [
        {
          "output_type": "stream",
          "name": "stdout",
          "text": [
            "\n",
            "<think>\n",
            "Okay, let's tackle this medical case. So, we have a 60-year-old man with a history of smoking. He's presenting with a persistent cough, hemoptysis, and unintentional weight loss. Imaging shows a lung mass, and his lab results show hypercalcemia. The question is asking for the most likely underlying cause of his hypercalcemia and the probable diagnosis.\n",
            "\n",
            "First, I'll start by breaking down the key symptoms and findings. Persistent cough and hemoptysis are classic signs of lung disease, especially in someone who smokes. Smoking is a major risk factor for both chronic obstructive pulmonary disease (COPD) and lung cancer. The unintentional weight loss could be due to various factors, including the underlying lung disease itself, inflammation, or perhaps something more systemic.\n",
            "\n",
            "Now, the hypercalcemia is interesting. High calcium levels can be caused by several conditions. The primary types are primary hyperparathyroidism (PHPT), secondary hyperparathyroidism, tertiary hyperparathyroidism, hypercalcitonism, and malignancy-associated hypercalcemia. Since this patient has a lung mass on imaging, malignancy is a strong possibility. I should consider whether the hypercalcemia is due to the tumor itself or if it's a parathyroid issue.\n",
            "\n",
            "In the case of hypercalcemia of malignancy, the tumor produces parathyroid hormone-related protein (PTHrp), which can lead to elevated calcium levels. This is more common in certain types of cancers, like lung, breast, and thymus. The hypercalcemia here seems to be related to the tumor since it's a secondary effect of the malignancy.\n",
            "\n",
            "So, putting it together, the patient has a lung mass (likely a primary or metastatic tumor) causing both the respiratory symptoms and the hypercalcemia via secondary hyperparathyroidism due to tumor production of PTHrp.\n",
            "\n",
            "I should also consider if there's any other possibility, like hyperparathyroidism causing the lung mass, but that seems less likely. Hyperparathyroidism usually presents with more classic symptoms like nephrolithiasis, and the imaging would show enlargement of the parathyroid glands, not a lung mass.\n",
            "\n",
            "Additionally, the association between smoking and lung cancer is strong, so the lung mass is likely a result of smoking. This patient's symptoms and hypercalcemia point toward a tumor causing secondary hyperparathyroidism.\n",
            "\n",
            "In summary, the most likely cause of hypercalcemia is the underlying lung malignancy leading to secondary hyperparathyroidism.\n",
            "</think>\n",
            "\n",
            "The most likely cause of the hypercalcemia in this 60-year-old man with a history of smoking, presenting with persistent cough, hemoptysis, and unintentional weight loss, and having a lung mass identified on imaging, is secondary hyperparathyroidism due to a lung malignancy. The hypercalcemia is likely a result of the tumor producing parathyroid hormone-related protein (PTHrp), which is a known complication of certain cancers, particularly those of the lung, breast, and thymus.\n",
            "\n",
            "**Step-by-Step Explanation:**\n",
            "\n",
            "1. **Identify Key Symptoms and Findings:**\n",
            "   - Persistent cough and hemoptysis are indicative of lung disease, likely related to smoking.\n",
            "   - Unintentional weight loss could be due to chronic lung disease or an underlying systemic condition.\n",
            "   - Hypercalcemia suggests an endocrine or oncological issue.\n",
            "\n",
            "2. **Evaluate Possible Causes of Hypercalcemia:**\n",
            "   - Consider primary hyperparathyroidism, secondary hyperparathyroidism, tertiary hyperparathyroidism, hypercalcitonism, or malignancy-associated hypercalcemia.\n",
            "\n",
            "3. **Assess the Role of the Lung Mass:**\n",
            "   - The presence of a lung mass strongly suggests a primary or metastatic tumor, likely related to smoking history.\n",
            "   - Malignant tumors can produce PTHrp, leading to secondary hyperparathyroidism and hypercalcemia.\n",
            "\n",
            "4. **Differential Diagnosis:**\n",
            "   - Exclude primary hyperparathyroidism, which typically presents with nephrolithiasis and imaging of parathyroid glands, not a lung mass.\n",
            "\n",
            "5. **Conclusion:**\n",
            "   - The most probable diagnosis is a lung malignancy causing secondary hyperparathyroidism through PTHrp production.\n",
            "\n",
            "**Final Answer:**\n",
            "The most likely underlying cause of the hypercalcemia in this patient is secondary hyperparathyroidism due to a lung malignancy, likely related to smoking history.<｜end▁of▁sentence｜>\n"
          ]
        }
      ],
      "source": [
        "question = \"A 60-year-old man with a history of smoking presents with persistent cough, hemoptysis, and unintentional weight loss. Imaging reveals a lung mass, and laboratory tests show hypercalcemia. What is the most likely underlying cause of his hypercalcemia, and what is the probable diagnosis?\"\n",
        "\n",
        "inputs = tokenizer([prompt_style.format(question, \"\")], return_tensors=\"pt\").to(\"cuda\")\n",
        "\n",
        "outputs = model.generate(\n",
        "    input_ids=inputs.input_ids,\n",
        "    attention_mask=inputs.attention_mask,\n",
        "    max_new_tokens=1200,\n",
        "    use_cache=True,\n",
        ")\n",
        "response = tokenizer.batch_decode(outputs)\n",
        "print(response[0].split(\"### Response:\")[1])"
      ]
    },
    {
      "cell_type": "code",
      "execution_count": 48,
      "id": "0d4948e2",
      "metadata": {
        "execution": {
          "iopub.execute_input": "2025-03-24T18:56:01.190734Z",
          "iopub.status.busy": "2025-03-24T18:56:01.190441Z",
          "iopub.status.idle": "2025-03-24T18:56:18.895723Z",
          "shell.execute_reply": "2025-03-24T18:56:18.894669Z"
        },
        "papermill": {
          "duration": 17.761003,
          "end_time": "2025-03-24T18:56:18.897500",
          "exception": false,
          "start_time": "2025-03-24T18:56:01.136497",
          "status": "completed"
        },
        "tags": [],
        "colab": {
          "base_uri": "https://localhost:8080/"
        },
        "id": "0d4948e2",
        "outputId": "186e4d88-593c-4a5a-cc3b-0e18c9b836f7"
      },
      "outputs": [
        {
          "output_type": "execute_result",
          "data": {
            "text/plain": [
              "('DeepSeek-R1-Medical-COT/tokenizer_config.json',\n",
              " 'DeepSeek-R1-Medical-COT/special_tokens_map.json',\n",
              " 'DeepSeek-R1-Medical-COT/tokenizer.json')"
            ]
          },
          "metadata": {},
          "execution_count": 48
        }
      ],
      "source": [
        "new_model_online = \"kingabzpro/DeepSeek-R1-Medical-COT\"\n",
        "new_model_local = \"DeepSeek-R1-Medical-COT\"\n",
        "model.save_pretrained(new_model_local) # Local saving\n",
        "tokenizer.save_pretrained(new_model_local)"
      ]
    },
    {
      "cell_type": "code",
      "execution_count": null,
      "id": "afe47e1f",
      "metadata": {
        "papermill": {
          "duration": 0.055828,
          "end_time": "2025-03-24T18:56:19.010826",
          "exception": false,
          "start_time": "2025-03-24T18:56:18.954998",
          "status": "completed"
        },
        "tags": [],
        "id": "afe47e1f"
      },
      "outputs": [],
      "source": []
    }
  ],
  "metadata": {
    "kaggle": {
      "accelerator": "nvidiaTeslaT4",
      "dataSources": [],
      "dockerImageVersionId": 30887,
      "isGpuEnabled": true,
      "isInternetEnabled": true,
      "language": "python",
      "sourceType": "notebook"
    },
    "kernelspec": {
      "display_name": "Python 3",
      "name": "python3"
    },
    "language_info": {
      "codemirror_mode": {
        "name": "ipython",
        "version": 3
      },
      "file_extension": ".py",
      "mimetype": "text/x-python",
      "name": "python",
      "nbconvert_exporter": "python",
      "pygments_lexer": "ipython3",
      "version": "3.10.12"
    },
    "papermill": {
      "default_parameters": {},
      "duration": 3113.288131,
      "end_time": "2025-03-24T18:56:24.355890",
      "environment_variables": {},
      "exception": null,
      "input_path": "__notebook__.ipynb",
      "output_path": "__notebook__.ipynb",
      "parameters": {},
      "start_time": "2025-03-24T18:04:31.067759",
      "version": "2.6.0"
    },
    "colab": {
      "provenance": [],
      "gpuType": "T4"
    },
    "accelerator": "GPU"
  },
  "nbformat": 4,
  "nbformat_minor": 5
}